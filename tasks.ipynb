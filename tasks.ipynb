{
 "cells": [
  {
   "cell_type": "markdown",
   "metadata": {},
   "source": [
    "# **Computational Theory Assessment (2024/2025)**\n",
    "Ronan Francis (G00403092)\n",
    "Computational Theory"
   ]
  },
  {
   "cell_type": "markdown",
   "metadata": {},
   "source": [
    "## **Table of Contents**\n",
    "1. [Task 1: Binary Representations](#task-1-binary-representations)\n",
    "2. [Task 2: Hash Functions](#task-2-hash-functions)\n",
    "3. [Task 3: SHA256 Padding](#task-3-sha256-padding)\n",
    "4. [Task 4: Prime Numbers](#task-4-prime-numbers)\n",
    "5. [Task 5: Roots](#task-5-roots)\n",
    "6. [Task 6: Proof of Work](#task-6-proof-of-work)\n",
    "7. [Task 7: Turing Machines](#task-7-turing-machines)\n",
    "8. [Task 8: Computational Complexity](#task-8-computational-complexity)"
   ]
  },
  {
   "cell_type": "markdown",
   "metadata": {},
   "source": [
    "## **Task 1: Binary Representations**\n",
    "\n",
    "In this task, we focus on implementing several core functions that manipulate binary representations of 32-bit unsigned integers. These operations are crucial in many fields, including cryptography (like SHA-256), data encoding, and low-level programming.\n",
    "\n",
    "### Circular Shifts\n",
    "\n",
    "Circular shifts (or bit rotations) involve shifting the bits of a number to the left or right, with the bits that \"fall off\" one end reappearing on the opposite end. This operation is distinct from logical shifts, where bits shifted off one end are simply discarded and zeros are introduced on the other end. Circular shifts maintain the bit-length and the overall \"weight\" of the data.\n",
    "\n",
    "For example, when you perform a left circular shift (`rotl`) on a 32-bit integer:\n",
    "- The bits are moved to the left by a specified number of positions.\n",
    "- The bits that move past the most significant bit are wrapped around to the least significant bit positions.\n",
    "\n",
    "Similarly, a right circular shift (`rotr`) moves bits to the right with wrapping from the rightmost bits to the leftmost positions.\n",
    "\n",
    "For more detailed information, see the [Circular Shift Wikipedia article](https://en.wikipedia.org/wiki/Circular_shift).\n",
    "\n",
    "### Bitwise Operators in Python\n",
    "\n",
    "Python provides several bitwise operators that allow for efficient manipulation of integers at the binary level:\n",
    "\n",
    "- **AND (`&`):** Compares each bit of two integers and returns `1` only if both bits are `1`.\n",
    "- **OR (`|`):** Compares each bit of two integers and returns `1` if at least one of the bits is `1`.\n",
    "- **XOR (`^`):** Returns `1` for each bit position where the corresponding bits of the two operands are different.\n",
    "- **NOT (`~`):** Inverts the bits of the operand.\n",
    "- **Left Shift (`<<`):** Shifts the bits of a number to the left by a specified number of positions.\n",
    "- **Right Shift (`>>`):** Shifts the bits of a number to the right by a specified number of positions.\n",
    "\n",
    "These operators form the foundation for our binary manipulation functions. Detailed explanations and examples can be found at [GeeksforGeeks Bitwise Operators](https://www.geeksforgeeks.org/python-bitwise-operators/).\n",
    "\n",
    "In summary, Task 1 involves implementing critical binary operations using circular shifts and bitwise operators. These functions serve as building blocks for more complex algorithms like SHA-256 and are widely applicable in many areas of computer science. By understanding and implementing `rotl`, `rotr`, `ch`, and `maj`, you not only gain proficiency in bitwise manipulation but also lay the groundwork for further exploration into cryptographic and low-level programming concepts.\n",
    "\n",
    "For further reading and a deeper understanding, explore the [Circular Shift](https://en.wikipedia.org/wiki/Circular_shift) and [Bitwise Operators](https://www.geeksforgeeks.org/python-bitwise-operators/) articles.\n"
   ]
  },
  {
   "cell_type": "markdown",
   "metadata": {},
   "source": [
    "### 1. [rotl(x, n=1)](https://en.cppreference.com/w/cpp/numeric/rotl)\n",
    "   - **Purpose:** Rotates the bits of a 32-bit unsigned integer `x` to the left by `n` positions.\n",
    "   - **Method:** Combine a left shift and a right shift using bitwise OR, ensuring the wrapped-around bits are correctly placed.\n",
    "   - **Considerations:** Use a bitmask (`0xFFFFFFFF`) to maintain 32-bit constraints, and handle cases where `n >= 32` by reducing `n` modulo 32."
   ]
  },
  {
   "cell_type": "code",
   "execution_count": 1,
   "metadata": {},
   "outputs": [
    {
     "name": "stdout",
     "output_type": "stream",
     "text": [
      "Original: 1010101\n",
      "Rotated:  0101011\n"
     ]
    }
   ],
   "source": [
    "def rotl(x, n=1):\n",
    "    # How many bits we need to represent x (at least 1)\n",
    "    width = x.bit_length() or 1\n",
    "    mask = (1 << width) - 1 # For example if width is 7, mask is 0b1111111\n",
    "\n",
    "    # Make sure n is in the range [0, width]\n",
    "    n %= width\n",
    "\n",
    "    # Do the rotation:\n",
    "    # - shift x to the left by n bits\n",
    "    # - bitwise AND with the mask to keep only the width least significant bits\n",
    "    # - bitwise OR with the bits that were \"shifted out\" to the left\n",
    "    return ((x << n) & mask) | (x >> (width - n))\n",
    "\n",
    "# Example\n",
    "x = 0b1010101 # 85\n",
    "rotated = rotl(x) # rotate left by 1\n",
    "\n",
    "# Print the binary representation of x and the rotated value, with leading zeros\n",
    "width = x.bit_length() or 1\n",
    "print(\"Original:\", format(x, '0{}b'.format(width)))\n",
    "print(\"Rotated: \", format(rotated, '0{}b'.format(width)))\n"
   ]
  },
  {
   "cell_type": "markdown",
   "metadata": {},
   "source": [
    "### 2. [rotr(x, n=1)](https://en.cppreference.com/w/cpp/numeric/rotr)\n",
    "   - **Purpose:** Rotates the bits of a 32-bit unsigned integer `x` to the right by `n` positions.\n",
    "   - **Method:** Similar to `rotl`, but with right and left shifts interchanged.\n",
    "   - **Considerations:** Maintain 32-bit integrity using a bitmask and modulo operations on `n`."
   ]
  },
  {
   "cell_type": "code",
   "execution_count": 2,
   "metadata": {},
   "outputs": [
    {
     "name": "stdout",
     "output_type": "stream",
     "text": [
      "Original: 101010\n",
      "Rotated:  010101\n"
     ]
    }
   ],
   "source": [
    "def rotr(x, n=1):\n",
    "    width = x.bit_length() or 1 # How many bits we need to represent x (at least 1)\n",
    "    mask = (1 << width) - 1  # For example if width is 7, mask is 0b1111111\n",
    "    x &= mask # Make sure x is in the range [0, 2**width)\n",
    "    n %= width # Make sure n is in the range [0, width)\n",
    "    return (x >> n) | ((x << (width - n)) & mask) # Do the rotation\n",
    "\n",
    "# Example\n",
    "x = 0b0101010 # 42\n",
    "rotated = rotl(x) # rotate left by 1\n",
    "\n",
    "# Print the binary representation of x and the rotated value, with leading zeros\n",
    "width = x.bit_length() or 1\n",
    "print(\"Original:\", format(x, '0{}b'.format(width)))\n",
    "print(\"Rotated: \", format(rotated, '0{}b'.format(width)))"
   ]
  },
  {
   "cell_type": "markdown",
   "metadata": {},
   "source": [
    "### 3. [ch(x, y, z)](https://crypto.stackexchange.com/questions/5358/what-does-maj-and-ch-mean-in-sha-256-algorithm)\n",
    "   - **Purpose:** Implements a bitwise \"choice\" function where for each bit position, if the corresponding bit in `x` is `1`, the output takes the bit from `y`; otherwise, it takes the bit from `z`.\n",
    "   - **Method:** Utilize bitwise operators to combine the bits from `y` and `z` based on `x`.\n",
    "   - **Application:** This function is commonly used in cryptographic algorithms to blend bits in a controlled manner."
   ]
  },
  {
   "cell_type": "code",
   "execution_count": 3,
   "metadata": {},
   "outputs": [
    {
     "name": "stdout",
     "output_type": "stream",
     "text": [
      "Expeted: 0b0\n",
      "Result: 0b101\n"
     ]
    }
   ],
   "source": [
    "def ch(x, y, z):\n",
    "    # (x AND y) XOR (NOT x AND z)\n",
    "    return (x & y) ^ (~x & z)\n",
    "\n",
    "# Example\n",
    "x = 0b1010 # 10\n",
    "y = 0b0000 # 0  \n",
    "z = 0b1111 # 15\n",
    "\n",
    "result = ch(x, y, z)\n",
    "print(\"Expeted:\", bin(y))\n",
    "print(\"Result:\", bin(result))"
   ]
  },
  {
   "cell_type": "markdown",
   "metadata": {},
   "source": [
    "### 4. [maj(x, y, z)](https://crypto.stackexchange.com/questions/5358/what-does-maj-and-ch-mean-in-sha-256-algorithm)\n",
    "   - **Purpose:** Computes the majority vote of the bits in `x`, `y`, and `z` for each bit position. The output bit is `1` if at least two of the three corresponding bits are `1`.\n",
    "   - **Method:** Combine bitwise ANDs and ORs to efficiently determine the majority.\n",
    "   - **Application:** This function is another staple in cryptographic hash functions, ensuring robust diffusion of input bits."
   ]
  },
  {
   "cell_type": "code",
   "execution_count": 4,
   "metadata": {},
   "outputs": [
    {
     "name": "stdout",
     "output_type": "stream",
     "text": [
      "Expected: 0b1010\n",
      "Result:   0b1010\n"
     ]
    }
   ],
   "source": [
    "def maj(x, y, z):\n",
    "    # (x AND y) XOR (x AND z) XOR (y AND z)\n",
    "    return (x & y) ^ (x & z) ^ (y & z)\n",
    "\n",
    "# Example\n",
    "x = 0b1010 # 10\n",
    "y = 0b0000 # 0\n",
    "z = 0b1111 # 15\n",
    "\n",
    "print(\"Expected:\", bin(x))\n",
    "print(\"Result:  \", bin(maj(x, y, z)))"
   ]
  },
  {
   "cell_type": "markdown",
   "metadata": {},
   "source": [
    "[Back to Top](#table-of-contents)"
   ]
  },
  {
   "cell_type": "markdown",
   "metadata": {},
   "source": [
    "## **Task 2: Hash Functions**\n",
    "\n",
    "In this task, we will convert a classic C hash function from *The C Programming Language* by Brian Kernighan and Dennis Ritchie into Python. The original hash function uses the `ord()` function (in Python, this returns the Unicode code point for a given character) to process each character in a string. For further details on the `ord()` function, see the [ord() Function documentation](https://www.w3schools.com/python/ref_func_ord.asp).\n",
    "\n",
    "### The Original C Hash Function\n",
    "\n",
    "The C code for the hash function is as follows:\n",
    "\n",
    "```c\n",
    "unsigned hash(char *s) {\n",
    "    unsigned hashval;\n",
    "    for (hashval = 0; *s != '\\0'; s++)\n",
    "        hashval = *s + 31 * hashval;\n",
    "    return hashval % 101;\n",
    "}\n"
   ]
  },
  {
   "cell_type": "markdown",
   "metadata": {},
   "source": [
    "### Explanation:\n",
    "- **Loop through the string:** The function iterates over each character in the input string `s`.\n",
    "- **Calculate hash value:** For every character, the hash value is updated by multiplying the current hash value by `31` and then adding the ASCII value of the character. This multiplication factor of ``31`` is chosen because it is a small prime number that helps in spreading out the hash values over a wide range.\n",
    "- **Modulo Operation:** The final hash value is reduced using a modulo operation with `101`, another prime number, which helps in distributing the hash values more uniformly across available buckets (this can be especially useful for hash tables).\n",
    "\n",
    "For more details on the concept of hash sizes and the reasoning behind such choices, refer to [ Hash Size in The C Programming Language.](https://www.cimat.mx/ciencia_para_jovenes/bachillerato/libros/%5BKernighan-Ritchie%5DThe_C_Programming_Language.pdf)"
   ]
  },
  {
   "cell_type": "markdown",
   "metadata": {},
   "source": [
    "## Porting to Python\n",
    "To implement the hash function in Python:\n",
    "\n",
    "- **Using [`ord()`](https://www.w3schools.com/python/ref_func_ord.asp):** The `ord()` function is used to obtain the integer representation (Unicode code point) of each character in the string.\n",
    "\n",
    "- **Iteration over the string:** We can iterate over the string directly since Python strings are iterable.\n",
    "\n",
    "- **Modulo Operation:** The modulo operation `(% 101)` is applied at the end to get the final hash value."
   ]
  },
  {
   "cell_type": "markdown",
   "metadata": {},
   "source": [
    "### **Python Implementation:**"
   ]
  },
  {
   "cell_type": "code",
   "execution_count": 5,
   "metadata": {},
   "outputs": [],
   "source": [
    "def hash(s, base=31, modulus=101):\n",
    "    hashValue = 0\n",
    "    for c in s:\n",
    "        hashValue = ord(c) + base * hashValue # ord(c) returns the ASCII value of c\n",
    "    return hashValue % modulus "
   ]
  },
  {
   "cell_type": "code",
   "execution_count": 6,
   "metadata": {},
   "outputs": [
    {
     "name": "stdout",
     "output_type": "stream",
     "text": [
      "'hello' -> 00010001, 17\n",
      "'world' -> 00100010, 34\n",
      "'foo' -> 01000101, 69\n",
      "'bar' -> 00100100, 36\n",
      "'baz' -> 00101100, 44\n",
      "'hash' -> 00001111, 15\n",
      "'collision' -> 00001000, 8\n",
      "'test' -> 01010110, 86\n",
      "'abcd' -> 01100100, 100\n",
      "'abce' -> 00000000, 0\n",
      "'abcf' -> 00000001, 1\n",
      "'java' -> 01011101, 93\n",
      "'python' -> 01011011, 91\n",
      "'rust' -> 00010001, 17\n",
      "'c++' -> 00111100, 60\n",
      "'javascript' -> 00101011, 43\n"
     ]
    }
   ],
   "source": [
    "# Some test strings\n",
    "test_strings = [\n",
    "    \"hello\", \"world\", \"foo\", \"bar\", \"baz\", \"hash\", \"collision\", \"test\",\n",
    "    \"abcd\", \"abce\", \"abcf\", \"java\", \"python\", \"rust\", \"c++\", \"javascript\"\n",
    "]\n",
    "\n",
    "for string in test_strings:\n",
    "    print(f\"{string!r} -> {hash(string):>08b}, {hash(string)}\")"
   ]
  },
  {
   "cell_type": "markdown",
   "metadata": {},
   "source": [
    "*Collison in `rust -> 17` and `hello -> 17`*"
   ]
  },
  {
   "cell_type": "markdown",
   "metadata": {},
   "source": [
    "## Testing the hash(string) function\n",
    "This code generates unique random alphanumeric strings and evaluates how different hash function parameters (bases and moduli) affect collision rates. It creates a set of unique strings using random selection from letters and digits, then applies the hash function to each string for various (base, modulus) pairs. By tracking when multiple strings yield the same hash value, the script computes collision counts and rates, ultimately printing a summary that highlights the commonly used parameters of 31 and 101."
   ]
  },
  {
   "cell_type": "code",
   "execution_count": 7,
   "metadata": {},
   "outputs": [],
   "source": [
    "import string\n",
    "import random\n",
    "\n",
    "def generate_unique_strings(count, length=8):\n",
    "    \"\"\"Generate a set of unique random alphanumeric strings of given length.\"\"\"\n",
    "    unique_strings = set()\n",
    "    \n",
    "    while len(unique_strings) < count:\n",
    "        new_string = ''.join(random.choices(string.ascii_letters + string.digits, k=length))\n",
    "        unique_strings.add(new_string)\n",
    "    \n",
    "    return list(unique_strings)\n",
    "\n",
    "def test_collisions(strings, bases, moduli):\n",
    "    \"\"\"\n",
    "    strings:  list of test strings to hash\n",
    "    bases:    list of possible 'base' values\n",
    "    moduli:   list of possible 'modulus' values\n",
    "    \n",
    "    Returns a dictionary with collision statistics for each (base, modulus) pair.\n",
    "    \"\"\"\n",
    "    \n",
    "    results = {}\n",
    "    \n",
    "    for base in bases:\n",
    "        for mod in moduli:\n",
    "            # Dictionary to keep track of hash -> list of strings\n",
    "            hash_map = {}\n",
    "            \n",
    "            for s in strings:\n",
    "                h = hash(s, base, mod)\n",
    "                if h not in hash_map:\n",
    "                    hash_map[h] = [s]\n",
    "                else:\n",
    "                    hash_map[h].append(s)\n",
    "            \n",
    "            # Count collisions by counting the number of strings in each bucket\n",
    "            collision_count = sum(len(lst) - 1 for lst in hash_map.values() if len(lst) > 1)\n",
    "            total_strings = len(strings) \n",
    "            \n",
    "            results[(base, mod)] = {\n",
    "                \"collision_count\": collision_count,\n",
    "                \"collision_rate\": collision_count / total_strings if total_strings else 0,\n",
    "                \"hash_map\": hash_map\n",
    "            }\n",
    "    \n",
    "    return results"
   ]
  },
  {
   "cell_type": "code",
   "execution_count": 8,
   "metadata": {},
   "outputs": [
    {
     "name": "stdout",
     "output_type": "stream",
     "text": [
      "* hash(s,31,101) -> Collisions: 899, Collision Rate: 0.90\n",
      "hash(s,31,5054) -> Collisions: 76, Collision Rate: 0.08\n",
      "hash(s,31,10007) -> Collisions: 54, Collision Rate: 0.05\n",
      "hash(s,144,101) -> Collisions: 899, Collision Rate: 0.90\n",
      "hash(s,144,5054) -> Collisions: 92, Collision Rate: 0.09\n",
      "hash(s,144,10007) -> Collisions: 47, Collision Rate: 0.05\n",
      "hash(s,257,101) -> Collisions: 899, Collision Rate: 0.90\n",
      "hash(s,257,5054) -> Collisions: 92, Collision Rate: 0.09\n",
      "hash(s,257,10007) -> Collisions: 44, Collision Rate: 0.04\n"
     ]
    }
   ],
   "source": [
    "# Example test strings\n",
    "test_strings = generate_unique_strings(1000, 8)\n",
    "    \n",
    "# Possible bases and moduli to test\n",
    "candidate_bases = [31, 144, 257]\n",
    "candidate_moduli = [101, 5_054, 10_007 ] \n",
    "    \n",
    "# Run tests\n",
    "collision_results = test_collisions(test_strings, candidate_bases, candidate_moduli)\n",
    "    \n",
    "# Print summary\n",
    "for (base, mod), stats in collision_results.items():\n",
    "    if (base, mod) == (31, 101):\n",
    "        print(\"*\", end =\" \")\n",
    "    print(f\"hash(s,{base},{mod}) -> Collisions: {stats['collision_count']}, \"\n",
    "        f\"Collision Rate: {stats['collision_rate']:.2f}\")"
   ]
  },
  {
   "cell_type": "markdown",
   "metadata": {},
   "source": [
    "### Why `31` and `101`\n",
    "\n",
    "After testing various candidates—such as bases `[31, 37, 257]` and moduli `[101, 127, 10_007]`—the values `31` and `101` have emerged as effective choices. As highlighted in Joshua Bloch's [*Effective Java*](https://ia800308.us.archive.org/16/items/java_20230528/Joshua%20Bloch%20-%20Effective%20Java%20%283rd%29%20-%202018.pdf):\n",
    "\n",
    "> The value 31 was chosen because it is an odd prime. If it were even and the multiplication overflowed, information would be lost, because multiplication by 2 is equivalent to shifting. The advantage of using a prime is less clear, but it is traditional.  \n",
    "> A nice property of 31 is that the multiplication can be replaced by a shift and a subtraction for better performance on some architectures: `31 * i == (i << 5) - i`. Modern VMs do this sort of optimization automatically.\n",
    "\n",
    "Using `31` as the multiplier helps to generate a well-distributed hash by combining the contributions of each character in a string. Its odd prime nature avoids the pitfalls of even multipliers—such as losing information on overflow—and the computational shortcut (shifting and subtracting) can improve performance.\n",
    "\n",
    "Similarly, the modulus `101` is chosen because it is a prime number. A prime modulus helps minimize collisions by ensuring a more uniform distribution of hash values. While the exact advantage of using a prime modulus like `101` might be less pronounced than that of the multiplier, it remains a traditional choice that has been proven effective in practice.\n",
    "\n",
    "In summary, the combination of `31` and `101` has been historically favored in hash function design due to their mathematical properties and performance benefits, which remain relevant even as testing with other numbers (e.g., `37`, `257` for the base and `127`, `10_007` for the modulus) might show similar behavior in certain scenarios.\n"
   ]
  },
  {
   "cell_type": "markdown",
   "metadata": {},
   "source": [
    "[Back to Top](#table-of-contents)"
   ]
  },
  {
   "cell_type": "markdown",
   "metadata": {},
   "source": [
    "## **Task 3: SHA256**\n",
    "..."
   ]
  },
  {
   "cell_type": "code",
   "execution_count": null,
   "metadata": {},
   "outputs": [],
   "source": []
  },
  {
   "cell_type": "markdown",
   "metadata": {},
   "source": [
    "[Back to Top](#table-of-contents)"
   ]
  },
  {
   "cell_type": "markdown",
   "metadata": {},
   "source": [
    "## **Task 4: Prime Numbers**\n",
    "..."
   ]
  },
  {
   "cell_type": "code",
   "execution_count": null,
   "metadata": {},
   "outputs": [],
   "source": []
  },
  {
   "cell_type": "markdown",
   "metadata": {},
   "source": [
    "[Back to Top](#table-of-contents)"
   ]
  },
  {
   "cell_type": "markdown",
   "metadata": {},
   "source": [
    "## **Task 5: Roots**\n",
    "..."
   ]
  },
  {
   "cell_type": "code",
   "execution_count": null,
   "metadata": {},
   "outputs": [],
   "source": []
  },
  {
   "cell_type": "markdown",
   "metadata": {},
   "source": [
    "[Back to Top](#table-of-contents)"
   ]
  },
  {
   "cell_type": "markdown",
   "metadata": {},
   "source": [
    "## **Task 6: Proof of Work**\n",
    "..."
   ]
  },
  {
   "cell_type": "code",
   "execution_count": null,
   "metadata": {},
   "outputs": [],
   "source": []
  },
  {
   "cell_type": "markdown",
   "metadata": {},
   "source": [
    "[Back to Top](#table-of-contents)"
   ]
  },
  {
   "cell_type": "markdown",
   "metadata": {},
   "source": [
    "## **Task 7: Turing Machines**\n",
    "..."
   ]
  },
  {
   "cell_type": "code",
   "execution_count": null,
   "metadata": {},
   "outputs": [],
   "source": []
  },
  {
   "cell_type": "markdown",
   "metadata": {},
   "source": [
    "[Back to Top](#table-of-contents)"
   ]
  },
  {
   "cell_type": "markdown",
   "metadata": {},
   "source": [
    "## **Task 8: Computational Complexity**\n",
    "..."
   ]
  },
  {
   "cell_type": "code",
   "execution_count": null,
   "metadata": {},
   "outputs": [],
   "source": []
  },
  {
   "cell_type": "markdown",
   "metadata": {},
   "source": [
    "[Back to Top](#table-of-contents)"
   ]
  },
  {
   "cell_type": "markdown",
   "metadata": {},
   "source": [
    "## **Conclusion**\n",
    "..."
   ]
  },
  {
   "cell_type": "markdown",
   "metadata": {},
   "source": [
    "[Back to Top](#table-of-contents)"
   ]
  }
 ],
 "metadata": {
  "kernelspec": {
   "display_name": "Python 3",
   "language": "python",
   "name": "python3"
  },
  "language_info": {
   "codemirror_mode": {
    "name": "ipython",
    "version": 3
   },
   "file_extension": ".py",
   "mimetype": "text/x-python",
   "name": "python",
   "nbconvert_exporter": "python",
   "pygments_lexer": "ipython3",
   "version": "3.12.1"
  }
 },
 "nbformat": 4,
 "nbformat_minor": 2
}
