{
 "cells": [
  {
   "cell_type": "markdown",
   "metadata": {},
   "source": [
    "# **Computational Theory Assessment (2024/2025)**\n",
    "Ronan Francis (G00403092)\n",
    "Computational Theory"
   ]
  },
  {
   "cell_type": "markdown",
   "metadata": {},
   "source": [
    "## **Table of Contents**\n",
    "1. [Task 1: Binary Representations](#task-1-binary-representations)\n",
    "2. [Task 2: Hash Functions](#task-2-hash-functions)\n",
    "3. [Task 3: SHA256 Padding](#task-3-sha256-padding)\n",
    "4. [Task 4: Prime Numbers](#task-4-prime-numbers)\n",
    "5. [Task 5: Roots](#task-5-roots)\n",
    "6. [Task 6: Proof of Work](#task-6-proof-of-work)\n",
    "7. [Task 7: Turing Machines](#task-7-turing-machines)\n",
    "8. [Task 8: Computational Complexity](#task-8-computational-complexity)"
   ]
  },
  {
   "cell_type": "markdown",
   "metadata": {},
   "source": [
    "## **Task 1: Binary Representations**\n",
    "\n",
    "[Circular Shift](https://en.wikipedia.org/wiki/Circular_shift)\n",
    "\n",
    "[Bitwise Operators](https://www.geeksforgeeks.org/python-bitwise-operators/)"
   ]
  },
  {
   "cell_type": "markdown",
   "metadata": {},
   "source": [
    "### 1. [rotl(x, n=1)](https://en.cppreference.com/w/cpp/numeric/rotl)\n",
    "The function `rotl(x, n=1)` that rotates the bits in a 32-bit unsigned integer to the left `n` places."
   ]
  },
  {
   "cell_type": "code",
   "execution_count": 197,
   "metadata": {},
   "outputs": [
    {
     "name": "stdout",
     "output_type": "stream",
     "text": [
      "Original: 1010101\n",
      "Rotated:  0101011\n"
     ]
    }
   ],
   "source": [
    "def rotl(x, n=1):\n",
    "    # How many bits we need to represent x (at least 1)\n",
    "    width = x.bit_length() or 1\n",
    "    mask = (1 << width) - 1 # For example if width is 7, mask is 0b1111111\n",
    "\n",
    "    # Make sure n is in the range [0, width]\n",
    "    n %= width\n",
    "\n",
    "    # Do the rotation:\n",
    "    # - shift x to the left by n bits\n",
    "    # - bitwise AND with the mask to keep only the width least significant bits\n",
    "    # - bitwise OR with the bits that were \"shifted out\" to the left\n",
    "    return ((x << n) & mask) | (x >> (width - n))\n",
    "\n",
    "# Example\n",
    "x = 0b1010101 # 85\n",
    "rotated = rotl(x) # rotate left by 1\n",
    "\n",
    "# Print the binary representation of x and the rotated value, with leading zeros\n",
    "width = x.bit_length() or 1\n",
    "print(\"Original:\", format(x, '0{}b'.format(width)))\n",
    "print(\"Rotated: \", format(rotated, '0{}b'.format(width)))\n"
   ]
  },
  {
   "cell_type": "markdown",
   "metadata": {},
   "source": [
    "### 2. [rotr(x, n=1)](https://en.cppreference.com/w/cpp/numeric/rotr)\n",
    "The function `rotr(x, n=1)` that rotates the bits in a 32-bit unsigned integer to the right `n` places."
   ]
  },
  {
   "cell_type": "code",
   "execution_count": 198,
   "metadata": {},
   "outputs": [
    {
     "name": "stdout",
     "output_type": "stream",
     "text": [
      "Original: 101010\n",
      "Rotated:  010101\n"
     ]
    }
   ],
   "source": [
    "def rotr(x, n=1):\n",
    "    width = x.bit_length() or 1 # How many bits we need to represent x (at least 1)\n",
    "    mask = (1 << width) - 1  # For example if width is 7, mask is 0b1111111\n",
    "    x &= mask # Make sure x is in the range [0, 2**width)\n",
    "    n %= width # Make sure n is in the range [0, width)\n",
    "    return (x >> n) | ((x << (width - n)) & mask) # Do the rotation\n",
    "\n",
    "# Example\n",
    "x = 0b0101010 # 42\n",
    "rotated = rotl(x) # rotate left by 1\n",
    "\n",
    "# Print the binary representation of x and the rotated value, with leading zeros\n",
    "width = x.bit_length() or 1\n",
    "print(\"Original:\", format(x, '0{}b'.format(width)))\n",
    "print(\"Rotated: \", format(rotated, '0{}b'.format(width)))"
   ]
  },
  {
   "cell_type": "markdown",
   "metadata": {},
   "source": [
    "### 3. [ch(x, y, z)](https://crypto.stackexchange.com/questions/5358/what-does-maj-and-ch-mean-in-sha-256-algorithm)\n",
    "The function `ch(x, y, z)` that chooses the bits from `y` where `x` has bits set to `1` and bits in `z` where `x` has bits set to `0`."
   ]
  },
  {
   "cell_type": "code",
   "execution_count": 199,
   "metadata": {},
   "outputs": [
    {
     "name": "stdout",
     "output_type": "stream",
     "text": [
      "Expeted: 0b0\n",
      "Result: 0b101\n"
     ]
    }
   ],
   "source": [
    "def ch(x, y, z):\n",
    "    # (x AND y) XOR (NOT x AND z)\n",
    "    return (x & y) ^ (~x & z)\n",
    "\n",
    "# Example\n",
    "x = 0b1010 # 10\n",
    "y = 0b0000 # 0  \n",
    "z = 0b1111 # 15\n",
    "\n",
    "result = ch(x, y, z)\n",
    "print(\"Expeted:\", bin(y))\n",
    "print(\"Result:\", bin(result))"
   ]
  },
  {
   "cell_type": "markdown",
   "metadata": {},
   "source": [
    "### 4. [maj(x, y, z)](https://crypto.stackexchange.com/questions/5358/what-does-maj-and-ch-mean-in-sha-256-algorithm)\n",
    "\n",
    "The function `maj(x, y, z)` which takes a majority vote of the bits in `x`, `y`, and `z`.  \n",
    "The output should have a `1` in bit position `i` where at least two of `x`, `y`, and `z` have `1`'s in position `i`.  \n",
    "All other output bit positions should be `0`."
   ]
  },
  {
   "cell_type": "code",
   "execution_count": 200,
   "metadata": {},
   "outputs": [
    {
     "name": "stdout",
     "output_type": "stream",
     "text": [
      "Expected: 0b1010\n",
      "Result:   0b1010\n"
     ]
    }
   ],
   "source": [
    "def maj(x, y, z):\n",
    "    # (x AND y) XOR (x AND z) XOR (y AND z)\n",
    "    return (x & y) ^ (x & z) ^ (y & z)\n",
    "\n",
    "# Example\n",
    "x = 0b1010 # 10\n",
    "y = 0b0000 # 0\n",
    "z = 0b1111 # 15\n",
    "\n",
    "print(\"Expected:\", bin(x))\n",
    "print(\"Result:  \", bin(maj(x, y, z)))"
   ]
  },
  {
   "cell_type": "markdown",
   "metadata": {},
   "source": [
    "[Back to Top](#table-of-contents)"
   ]
  },
  {
   "cell_type": "markdown",
   "metadata": {},
   "source": [
    "## **Task 2: Hash Functions**\n",
    "\n",
    "[`Ord()` Function](https://www.w3schools.com/python/ref_func_ord.asp)\n",
    "\n",
    "[Hash Size](https://www.cimat.mx/ciencia_para_jovenes/bachillerato/libros/%5BKernighan-Ritchie%5DThe_C_Programming_Language.pdf)"
   ]
  },
  {
   "cell_type": "code",
   "execution_count": 201,
   "metadata": {},
   "outputs": [],
   "source": [
    "def hash(s, base=31, modulus=101):\n",
    "    hashValue = 0\n",
    "    for c in s:\n",
    "        hashValue = ord(c) + base * hashValue # ord(c) returns the ASCII value of c\n",
    "    return hashValue % modulus "
   ]
  },
  {
   "cell_type": "code",
   "execution_count": 202,
   "metadata": {},
   "outputs": [
    {
     "name": "stdout",
     "output_type": "stream",
     "text": [
      "'hello' -> 17\n",
      "'world' -> 34\n",
      "'foo' -> 69\n",
      "'bar' -> 36\n",
      "'baz' -> 44\n",
      "'hash' -> 15\n",
      "'collision' -> 8\n",
      "'test' -> 86\n",
      "'abcd' -> 100\n",
      "'abce' -> 0\n",
      "'abcf' -> 1\n",
      "'java' -> 93\n",
      "'python' -> 91\n",
      "'rust' -> 17\n",
      "'c++' -> 60\n",
      "'javascript' -> 43\n"
     ]
    }
   ],
   "source": [
    "# Some test strings\n",
    "test_strings = [\n",
    "    \"hello\", \"world\", \"foo\", \"bar\", \"baz\", \"hash\", \"collision\", \"test\",\n",
    "    \"abcd\", \"abce\", \"abcf\", \"java\", \"python\", \"rust\", \"c++\", \"javascript\"\n",
    "]\n",
    "\n",
    "for string in test_strings:\n",
    "    print(f\"{string!r} -> {hash(string)}\")"
   ]
  },
  {
   "cell_type": "markdown",
   "metadata": {},
   "source": [
    "*Collison in `rust -> 17` and `hello -> 17`*"
   ]
  },
  {
   "cell_type": "code",
   "execution_count": 203,
   "metadata": {},
   "outputs": [],
   "source": [
    "import string\n",
    "import random\n",
    "\n",
    "def generate_unique_strings(count, length=8):\n",
    "    \"\"\"Generate a set of unique random alphanumeric strings of given length.\"\"\"\n",
    "    unique_strings = set()\n",
    "    \n",
    "    while len(unique_strings) < count:\n",
    "        new_string = ''.join(random.choices(string.ascii_letters + string.digits, k=length))\n",
    "        unique_strings.add(new_string)\n",
    "    \n",
    "    return list(unique_strings)\n",
    "\n",
    "def test_collisions(strings, bases, moduli):\n",
    "    \"\"\"\n",
    "    strings:  list of test strings to hash\n",
    "    bases:    list of possible 'base' values\n",
    "    moduli:   list of possible 'modulus' values\n",
    "    \n",
    "    Returns a dictionary with collision statistics for each (base, modulus) pair.\n",
    "    \"\"\"\n",
    "    \n",
    "    results = {}\n",
    "    \n",
    "    for base in bases:\n",
    "        for mod in moduli:\n",
    "            # Dictionary to keep track of hash -> list of strings\n",
    "            hash_map = {}\n",
    "            \n",
    "            for s in strings:\n",
    "                h = hash(s, base, mod)\n",
    "                if h not in hash_map:\n",
    "                    hash_map[h] = [s]\n",
    "                else:\n",
    "                    hash_map[h].append(s)\n",
    "            \n",
    "            # Count collisions by counting the number of strings in each bucket\n",
    "            collision_count = sum(len(lst) - 1 for lst in hash_map.values() if len(lst) > 1)\n",
    "            total_strings = len(strings) \n",
    "            \n",
    "            results[(base, mod)] = {\n",
    "                \"collision_count\": collision_count,\n",
    "                \"collision_rate\": collision_count / total_strings if total_strings else 0,\n",
    "                \"hash_map\": hash_map\n",
    "            }\n",
    "    \n",
    "    return results"
   ]
  },
  {
   "cell_type": "code",
   "execution_count": null,
   "metadata": {},
   "outputs": [
    {
     "name": "stdout",
     "output_type": "stream",
     "text": [
      "Base=29, Modulus=97 -> Collisions: 903, Collision Rate: 0.90\n",
      "Base=29, Modulus=101 -> Collisions: 899, Collision Rate: 0.90\n",
      "Base=29, Modulus=127 -> Collisions: 873, Collision Rate: 0.87\n",
      "Base=29, Modulus=10007 -> Collisions: 62, Collision Rate: 0.06\n",
      "Base=31, Modulus=97 -> Collisions: 903, Collision Rate: 0.90\n",
      "* Base=31, Modulus=101 -> Collisions: 899, Collision Rate: 0.90\n",
      "Base=31, Modulus=127 -> Collisions: 873, Collision Rate: 0.87\n",
      "Base=31, Modulus=10007 -> Collisions: 47, Collision Rate: 0.05\n",
      "Base=37, Modulus=97 -> Collisions: 903, Collision Rate: 0.90\n",
      "Base=37, Modulus=101 -> Collisions: 899, Collision Rate: 0.90\n",
      "Base=37, Modulus=127 -> Collisions: 873, Collision Rate: 0.87\n",
      "Base=37, Modulus=10007 -> Collisions: 51, Collision Rate: 0.05\n",
      "Base=257, Modulus=97 -> Collisions: 903, Collision Rate: 0.90\n",
      "Base=257, Modulus=101 -> Collisions: 899, Collision Rate: 0.90\n",
      "Base=257, Modulus=127 -> Collisions: 873, Collision Rate: 0.87\n",
      "Base=257, Modulus=10007 -> Collisions: 39, Collision Rate: 0.04\n"
     ]
    }
   ],
   "source": [
    "# Example test strings\n",
    "test_strings = generate_unique_strings(1000, 8)\n",
    "    \n",
    "# Possible bases and moduli to test\n",
    "candidate_bases = [29, 31, 37, 257]\n",
    "candidate_moduli = [97, 101, 127, 10_007 ] \n",
    "    \n",
    "# Run tests\n",
    "collision_results = test_collisions(test_strings, candidate_bases, candidate_moduli)\n",
    "    \n",
    "# Print summary\n",
    "for (base, mod), stats in collision_results.items():\n",
    "    if (base, mod) == (31, 101):\n",
    "        print(\"*\", end =\" \")\n",
    "    print(f\"Base={base}, Modulus={mod} -> Collisions: {stats['collision_count']}, \"\n",
    "        f\"Collision Rate: {stats['collision_rate']:.2f}\")"
   ]
  },
  {
   "cell_type": "markdown",
   "metadata": {},
   "source": [
    "### Why `31` and `101`\n",
    "..."
   ]
  },
  {
   "cell_type": "markdown",
   "metadata": {},
   "source": [
    "[Back to Top](#table-of-contents)"
   ]
  },
  {
   "cell_type": "markdown",
   "metadata": {},
   "source": [
    "## **Task 3: SHA256**\n",
    "..."
   ]
  },
  {
   "cell_type": "code",
   "execution_count": null,
   "metadata": {},
   "outputs": [],
   "source": []
  },
  {
   "cell_type": "markdown",
   "metadata": {},
   "source": [
    "[Back to Top](#table-of-contents)"
   ]
  },
  {
   "cell_type": "markdown",
   "metadata": {},
   "source": [
    "## **Task 4: Prime Numbers**\n",
    "..."
   ]
  },
  {
   "cell_type": "code",
   "execution_count": null,
   "metadata": {},
   "outputs": [],
   "source": []
  },
  {
   "cell_type": "markdown",
   "metadata": {},
   "source": [
    "[Back to Top](#table-of-contents)"
   ]
  },
  {
   "cell_type": "markdown",
   "metadata": {},
   "source": [
    "## **Task 5: Roots**\n",
    "..."
   ]
  },
  {
   "cell_type": "code",
   "execution_count": null,
   "metadata": {},
   "outputs": [],
   "source": []
  },
  {
   "cell_type": "markdown",
   "metadata": {},
   "source": [
    "[Back to Top](#table-of-contents)"
   ]
  },
  {
   "cell_type": "markdown",
   "metadata": {},
   "source": [
    "## **Task 6: Proof of Work**\n",
    "..."
   ]
  },
  {
   "cell_type": "code",
   "execution_count": null,
   "metadata": {},
   "outputs": [],
   "source": []
  },
  {
   "cell_type": "markdown",
   "metadata": {},
   "source": [
    "[Back to Top](#table-of-contents)"
   ]
  },
  {
   "cell_type": "markdown",
   "metadata": {},
   "source": [
    "## **Task 7: Turing Machines**\n",
    "..."
   ]
  },
  {
   "cell_type": "code",
   "execution_count": null,
   "metadata": {},
   "outputs": [],
   "source": []
  },
  {
   "cell_type": "markdown",
   "metadata": {},
   "source": [
    "[Back to Top](#table-of-contents)"
   ]
  },
  {
   "cell_type": "markdown",
   "metadata": {},
   "source": [
    "## **Task 8: Computational Complexity**\n",
    "..."
   ]
  },
  {
   "cell_type": "code",
   "execution_count": null,
   "metadata": {},
   "outputs": [],
   "source": []
  },
  {
   "cell_type": "markdown",
   "metadata": {},
   "source": [
    "[Back to Top](#table-of-contents)"
   ]
  },
  {
   "cell_type": "markdown",
   "metadata": {},
   "source": [
    "## **Conclusion**\n",
    "..."
   ]
  },
  {
   "cell_type": "markdown",
   "metadata": {},
   "source": [
    "[Back to Top](#table-of-contents)"
   ]
  }
 ],
 "metadata": {
  "kernelspec": {
   "display_name": "Python 3",
   "language": "python",
   "name": "python3"
  },
  "language_info": {
   "codemirror_mode": {
    "name": "ipython",
    "version": 3
   },
   "file_extension": ".py",
   "mimetype": "text/x-python",
   "name": "python",
   "nbconvert_exporter": "python",
   "pygments_lexer": "ipython3",
   "version": "3.12.1"
  }
 },
 "nbformat": 4,
 "nbformat_minor": 2
}
