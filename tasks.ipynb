{
 "cells": [
  {
   "cell_type": "markdown",
   "metadata": {},
   "source": [
    "# **Computational Theory Assessment (2024/2025)**\n",
    "Ronan Francis (G00403092)\n",
    "Computational Theory"
   ]
  },
  {
   "cell_type": "code",
   "execution_count": 69,
   "metadata": {},
   "outputs": [],
   "source": [
    "import math\n",
    "import string\n",
    "import random\n",
    "import struct"
   ]
  },
  {
   "cell_type": "markdown",
   "metadata": {},
   "source": [
    "## **Table of Contents**\n",
    "1. [Task 1: Binary Representations](#task-1-binary-representations)\n",
    "2. [Task 2: Hash Functions](#task-2-hash-functions)\n",
    "3. [Task 3: SHA256 Padding](#task-3-sha256-padding)\n",
    "4. [Task 4: Prime Numbers](#task-4-prime-numbers)\n",
    "5. [Task 5: Roots](#task-5-roots)\n",
    "6. [Task 6: Proof of Work](#task-6-proof-of-work)\n",
    "7. [Task 7: Turing Machines](#task-7-turing-machines)\n",
    "8. [Task 8: Computational Complexity](#task-8-computational-complexity)\n",
    "\n",
    "---"
   ]
  },
  {
   "cell_type": "markdown",
   "metadata": {},
   "source": [
    "# **Task 1: Binary Representations**\n",
    "\n",
    "## Introduction \n",
    "In this task, we focus on implementing several core functions that manipulate binary representations of 32-bit unsigned integers. These operations are crucial in many fields, including cryptography (like SHA-256), data encoding, and low-level programming.\n",
    "\n",
    "### Circular Shifts\n",
    "\n",
    "Circular shifts (or bit rotations) involve shifting the bits of a number to the left or right, with the bits that \"fall off\" one end reappearing on the opposite end. This operation is distinct from logical shifts, where bits shifted off one end are simply discarded and zeros are introduced on the other end. Circular shifts maintain the bit-length and the overall \"weight\" of the data.\n",
    "\n",
    "For example, when you perform a left circular shift (`rotl`) on a 32-bit integer:\n",
    "- The bits are moved to the left by a specified number of positions.\n",
    "- The bits that move past the most significant bit are wrapped around to the least significant bit positions.\n",
    "\n",
    "Similarly, a right circular shift (`rotr`) moves bits to the right with wrapping from the rightmost bits to the leftmost positions.\n",
    "\n",
    "For more detailed information, see the [Circular Shift Wikipedia article](https://en.wikipedia.org/wiki/Circular_shift).\n",
    "\n",
    "### Bitwise Operators\n",
    "\n",
    "Python provides several bitwise operators that allow for efficient manipulation of integers at the binary level:\n",
    "\n",
    "- **AND (`&`):** Compares each bit of two integers and returns `1` only if both bits are `1`.\n",
    "- **OR (`|`):** Compares each bit of two integers and returns `1` if at least one of the bits is `1`.\n",
    "- **XOR (`^`):** Returns `1` for each bit position where the corresponding bits of the two operands are different.\n",
    "- **NOT (`~`):** Inverts the bits of the operand.\n",
    "- **Left Shift (`<<`):** Shifts the bits of a number to the left by a specified number of positions.\n",
    "- **Right Shift (`>>`):** Shifts the bits of a number to the right by a specified number of positions.\n",
    "\n",
    "These operators form the foundation for our binary manipulation functions. Detailed explanations and examples can be found at [GeeksforGeeks Bitwise Operators](https://www.geeksforgeeks.org/python-bitwise-operators/).\n",
    "\n",
    "In summary, Task 1 involves implementing critical binary operations using circular shifts and bitwise operators. These functions serve as building blocks for more complex algorithms like SHA-256 and are widely applicable in many areas of computer science. By understanding and implementing `rotl`, `rotr`, `ch`, and `maj`, you not only gain proficiency in bitwise manipulation but also lay the groundwork for further exploration into cryptographic and low-level programming concepts.\n",
    "\n",
    "For further reading and a deeper understanding, explore the [Circular Shift](https://en.wikipedia.org/wiki/Circular_shift) and [Bitwise Operators](https://www.geeksforgeeks.org/python-bitwise-operators/) articles.\n"
   ]
  },
  {
   "cell_type": "markdown",
   "metadata": {},
   "source": [
    "## 1. [rotl(x, n=1)](https://en.cppreference.com/w/cpp/numeric/rotl)\n",
    "   - **Purpose:** Rotates the bits of a 32-bit unsigned integer `x` to the left by `n` positions.\n",
    "   - **Method:** Combine a left shift and a right shift using bitwise OR, ensuring the wrapped-around bits are correctly placed.\n",
    "   - **Considerations:** Use a bitmask (`0xFFFFFFFF`) to maintain 32-bit constraints, and handle cases where `n >= 32` by reducing `n` modulo 32."
   ]
  },
  {
   "cell_type": "code",
   "execution_count": 70,
   "metadata": {},
   "outputs": [
    {
     "name": "stdout",
     "output_type": "stream",
     "text": [
      "Original: 1010101\n",
      "Rotated:  0101011\n"
     ]
    }
   ],
   "source": [
    "def rotl(x, n=1):\n",
    "    # How many bits we need to represent x (at least 1)\n",
    "    width = x.bit_length() or 1\n",
    "    mask = (1 << width) - 1 # For example if width is 7, mask is 0b1111111\n",
    "\n",
    "    # Make sure n is in the range [0, width]\n",
    "    n %= width\n",
    "\n",
    "    # Do the rotation:\n",
    "    # - shift x to the left by n bits\n",
    "    # - bitwise AND with the mask to keep only the width least significant bits\n",
    "    # - bitwise OR with the bits that were \"shifted out\" to the left\n",
    "    return ((x << n) & mask) | (x >> (width - n))\n",
    "\n",
    "# Example\n",
    "x = 0b1010101 # 85\n",
    "rotated = rotl(x) # rotate left by 1\n",
    "\n",
    "# Print the binary representation of x and the rotated value, with leading zeros\n",
    "width = x.bit_length() or 1\n",
    "print(\"Original:\", format(x, '0{}b'.format(width)))\n",
    "print(\"Rotated: \", format(rotated, '0{}b'.format(width)))\n"
   ]
  },
  {
   "cell_type": "markdown",
   "metadata": {},
   "source": [
    "## 2. [rotr(x, n=1)](https://en.cppreference.com/w/cpp/numeric/rotr)\n",
    "   - **Purpose:** Rotates the bits of a 32-bit unsigned integer `x` to the right by `n` positions.\n",
    "   - **Method:** Similar to `rotl`, but with right and left shifts interchanged.\n",
    "   - **Considerations:** Maintain 32-bit integrity using a bitmask and modulo operations on `n`."
   ]
  },
  {
   "cell_type": "code",
   "execution_count": 71,
   "metadata": {},
   "outputs": [
    {
     "name": "stdout",
     "output_type": "stream",
     "text": [
      "Original: 101010\n",
      "Rotated:  010101\n"
     ]
    }
   ],
   "source": [
    "def rotr(x, n=1):\n",
    "    width = x.bit_length() or 1 # How many bits we need to represent x (at least 1)\n",
    "    mask = (1 << width) - 1  # For example if width is 7, mask is 0b1111111\n",
    "    x &= mask # Make sure x is in the range [0, 2**width)\n",
    "    n %= width # Make sure n is in the range [0, width)\n",
    "    return (x >> n) | ((x << (width - n)) & mask) # Do the rotation\n",
    "\n",
    "# Example\n",
    "x = 0b0101010 # 42\n",
    "rotated = rotr(x) # rotate left by 1\n",
    "\n",
    "# Print the binary representation of x and the rotated value, with leading zeros\n",
    "width = x.bit_length() or 1\n",
    "print(\"Original:\", format(x, '0{}b'.format(width)))\n",
    "print(\"Rotated: \", format(rotated, '0{}b'.format(width)))"
   ]
  },
  {
   "cell_type": "markdown",
   "metadata": {},
   "source": [
    "## 3. [ch(x, y, z)](https://crypto.stackexchange.com/questions/5358/what-does-maj-and-ch-mean-in-sha-256-algorithm)\n",
    "   - **Purpose:** Implements a bitwise \"choice\" function where for each bit position, if the corresponding bit in `x` is `1`, the output takes the bit from `y`; otherwise, it takes the bit from `z`.\n",
    "   - **Method:** Utilize bitwise operators to combine the bits from `y` and `z` based on `x`.\n",
    "   - **Application:** This function is commonly used in cryptographic algorithms to blend bits in a controlled manner."
   ]
  },
  {
   "cell_type": "code",
   "execution_count": 72,
   "metadata": {},
   "outputs": [
    {
     "name": "stdout",
     "output_type": "stream",
     "text": [
      "Expeted: 0b101\n",
      "Result: 0b101\n"
     ]
    }
   ],
   "source": [
    "def ch(x, y, z):\n",
    "    # (x AND y) XOR (NOT x AND z)\n",
    "    return (x & y) ^ (~ x & z)\n",
    "\n",
    "# Example\n",
    "x = 0b1010 # 10\n",
    "y = 0b0000 # 0  \n",
    "z = 0b1111 # 15\n",
    "\n",
    "result = ch(x, y, z)\n",
    "print(\"Expeted: 0b101\")\n",
    "print(\"Result:\", bin(result))"
   ]
  },
  {
   "cell_type": "markdown",
   "metadata": {},
   "source": [
    "## 4. [maj(x, y, z)](https://crypto.stackexchange.com/questions/5358/what-does-maj-and-ch-mean-in-sha-256-algorithm)\n",
    "   - **Purpose:** Computes the majority vote of the bits in `x`, `y`, and `z` for each bit position. The output bit is `1` if at least two of the three corresponding bits are `1`.\n",
    "   - **Method:** Combine bitwise ANDs and ORs to efficiently determine the majority.\n",
    "   - **Application:** This function is another staple in cryptographic hash functions, ensuring robust diffusion of input bits."
   ]
  },
  {
   "cell_type": "code",
   "execution_count": 73,
   "metadata": {},
   "outputs": [
    {
     "name": "stdout",
     "output_type": "stream",
     "text": [
      "Expected: 0b1010\n",
      "Result:   0b1010\n"
     ]
    }
   ],
   "source": [
    "def maj(x, y, z):\n",
    "    # (x AND y) XOR (x AND z) XOR (y AND z)\n",
    "    return (x & y) ^ (x & z) ^ (y & z)\n",
    "\n",
    "# Example\n",
    "x = 0b1010 # 10\n",
    "y = 0b0000 # 0\n",
    "z = 0b1111 # 15\n",
    "\n",
    "print(\"Expected:\", bin(x))\n",
    "print(\"Result:  \", bin(maj(x, y, z)))"
   ]
  },
  {
   "cell_type": "markdown",
   "metadata": {},
   "source": [
    "[Back to Top](#table-of-contents)\n",
    "\n",
    "---"
   ]
  },
  {
   "cell_type": "markdown",
   "metadata": {},
   "source": [
    "# **Task 2: Hash Functions**\n",
    "\n",
    "In this task, we will convert a classic C hash function from *The C Programming Language* by Brian Kernighan and Dennis Ritchie into Python. The original hash function uses the `ord()` function (in Python, this returns the Unicode code point for a given character) to process each character in a string. For further details on the `ord()` function, see the [ord() Function documentation](https://www.w3schools.com/python/ref_func_ord.asp).\n",
    "\n",
    "## The Original C Hash Function\n",
    "\n",
    "The C code for the hash function is as follows:\n",
    "\n",
    "```c\n",
    "unsigned hash(char *s) {\n",
    "    unsigned hashval;\n",
    "    for (hashval = 0; *s != '\\0'; s++)\n",
    "        hashval = *s + 31 * hashval;\n",
    "    return hashval % 101;\n",
    "}\n"
   ]
  },
  {
   "cell_type": "markdown",
   "metadata": {},
   "source": [
    "### Explanation:\n",
    "- **Loop through the string:** The function iterates over each character in the input string `s`.\n",
    "- **Calculate hash value:** For every character, the hash value is updated by multiplying the current hash value by `31` and then adding the ASCII value of the character. This multiplication factor of ``31`` is chosen because it is a small prime number that helps in spreading out the hash values over a wide range.\n",
    "- **Modulo Operation:** The final hash value is reduced using a modulo operation with `101`, another prime number, which helps in distributing the hash values more uniformly across available buckets (this can be especially useful for hash tables).\n",
    "\n",
    "For more details on the concept of hash sizes and the reasoning behind such choices, refer to [ Hash Size in The C Programming Language.](https://www.cimat.mx/ciencia_para_jovenes/bachillerato/libros/%5BKernighan-Ritchie%5DThe_C_Programming_Language.pdf)"
   ]
  },
  {
   "cell_type": "code",
   "execution_count": 74,
   "metadata": {},
   "outputs": [],
   "source": [
    "def hash(s, base=31, modulus=101):\n",
    "    hashValue = 0\n",
    "    for c in s:\n",
    "        hashValue = ord(c) + base * hashValue # ord(c) returns the ASCII value of c\n",
    "    return hashValue % modulus "
   ]
  },
  {
   "cell_type": "markdown",
   "metadata": {},
   "source": [
    "### Porting to Python\n",
    "To implement the hash function in Python:\n",
    "\n",
    "- **Using [`ord()`](https://www.w3schools.com/python/ref_func_ord.asp):** The `ord()` function is used to obtain the integer representation (Unicode code point) of each character in the string.\n",
    "\n",
    "- **Iteration over the string:** We can iterate over the string directly since Python strings are iterable.\n",
    "\n",
    "- **Modulo Operation:** The modulo operation `(% 101)` is applied at the end to get the final hash value."
   ]
  },
  {
   "cell_type": "code",
   "execution_count": 75,
   "metadata": {},
   "outputs": [
    {
     "name": "stdout",
     "output_type": "stream",
     "text": [
      "'hello' -> 00010001, 17\n",
      "'world' -> 00100010, 34\n",
      "'foo' -> 01000101, 69\n",
      "'bar' -> 00100100, 36\n",
      "'baz' -> 00101100, 44\n",
      "'hash' -> 00001111, 15\n",
      "'collision' -> 00001000, 8\n",
      "'test' -> 01010110, 86\n",
      "'abcd' -> 01100100, 100\n",
      "'abce' -> 00000000, 0\n",
      "'abcf' -> 00000001, 1\n",
      "'java' -> 01011101, 93\n",
      "'python' -> 01011011, 91\n",
      "'rust' -> 00010001, 17\n",
      "'c++' -> 00111100, 60\n",
      "'javascript' -> 00101011, 43\n"
     ]
    }
   ],
   "source": [
    "# Some test strings\n",
    "test_strings = [\n",
    "    \"hello\", \"world\", \"foo\", \"bar\", \"baz\", \"hash\", \"collision\", \"test\",\n",
    "    \"abcd\", \"abce\", \"abcf\", \"java\", \"python\", \"rust\", \"c++\", \"javascript\"\n",
    "]\n",
    "\n",
    "for string in test_strings:\n",
    "    print(f\"{string!r} -> {hash(string):>08b}, {hash(string)}\")"
   ]
  },
  {
   "cell_type": "markdown",
   "metadata": {},
   "source": [
    "*Collison in `rust -> 17` and `hello -> 17`*"
   ]
  },
  {
   "cell_type": "markdown",
   "metadata": {},
   "source": [
    "## Why `31` and `101`\n",
    "\n",
    "After testing various candidates—such as bases `[31, 37, 257]` and moduli `[101, 127, 10_007]`—the values `31` and `101` have emerged as effective choices. As highlighted in Joshua Bloch's [*Effective Java*](https://ia800308.us.archive.org/16/items/java_20230528/Joshua%20Bloch%20-%20Effective%20Java%20%283rd%29%20-%202018.pdf):\n",
    "\n",
    "* The value `31` was chosen because it is an odd prime. If it were even and the multiplication overflowed, information would be lost, because multiplication by `2` is equivalent to shifting. The advantage of using a prime is less clear, but it is traditional.  \n",
    "* A nice property of `31` is that the multiplication can be replaced by a shift and a subtraction for better performance on some architectures: `31 * i == (i << 5) - i`. Modern VMs do this sort of optimization automatically.\n",
    "This allows faster computation on certain architectures.\n",
    "* Since `31 < 32`, it stays within the bit-width of a 32-bit processor.\n",
    "\n",
    "Using `31` as the multiplier helps to generate a well-distributed hash by combining the contributions of each character in a string. Its odd prime nature avoids the pitfalls of even multipliers—such as losing information on overflow—and the computational shortcut (shifting and subtracting) can improve performance.\n",
    "\n",
    "Similarly, the modulus `101` is chosen because it is a prime number. A prime modulus helps minimize collisions by ensuring a more uniform distribution of hash values. While the exact advantage of using a prime modulus like `101` might be less pronounced than that of the multiplier, it remains a traditional choice that has been proven effective in practice.\n",
    "\n",
    "In summary, the combination of `31` and `101` has been historically favored in hash function design due to their mathematical properties and performance benefits, which remain relevant even as testing with other numbers (e.g., `37`, `257` for the base and `127`, `10_007` for the modulus) might show similar behavior in certain scenarios.\n"
   ]
  },
  {
   "cell_type": "markdown",
   "metadata": {},
   "source": [
    "[Back to Top](#table-of-contents)\n",
    "\n",
    "---"
   ]
  },
  {
   "cell_type": "markdown",
   "metadata": {},
   "source": [
    "# **Task 3: SHA256 Padding**\n",
    "\n",
    "The task is to implement a Python function that computes the SHA256 padding for a given file. This involves reading the file's contents in binary mode, calculating the padding according to the SHA256 ([SHA-2 - Wikipedia](https://en.wikipedia.org/wiki/SHA-2)) specification as detailed in [NIST FIPS 180-4](https://doi.org/10.6028/NIST.FIPS.180-4), and outputting the resulting padding in hexadecimal format.\n",
    "\n",
    "In the SHA256 algorithm, before the input message is processed, it must be padded to satisfy the requirement that its total length (in bits) is equal to 448 bytes modulo 512. This is achieved by appending the following to the original message:\n",
    "- **A single `1` bit:** Represented in hexadecimal as `0x80` (binary: `10000000`).\n",
    "- **A series of `0` bits:** Enough zeros are appended so that the length of the message (after adding `0x80` and the zeros) is 56 bytes modulo 64. This ensures that, once an 8-byte (64-bit) representation of the original message length is appended, the overall message length is a multiple of 64 bytes (512 bits).\n",
    "- **The original message length:** The length (in bits) of the original input is appended as a 64-bit big-endian integer.\n",
    "\n",
    "This process is described in detail in [NIST FIPS 180-4](https://doi.org/10.6028/NIST.FIPS.180-4), which is the official document for the Secure Hash Standard (SHS). Additional context can be found on the [SHA-2 - Wikipedia](https://en.wikipedia.org/wiki/SHA-2) Wikipedia page and in [RFC 6234](https://datatracker.ietf.org/doc/html/rfc6234), which provide overviews and implementation notes for SHA-256.\n",
    "\n",
    "In summary, the implementation should:\n",
    "- Open and read the file in binary mode.\n",
    "- Append `0x80` to the file's contents to indicate the start of the padding.\n",
    "- Calculate the number of zero bytes needed so that, with the additional 8-byte length field, the total length is a multiple of 64 bytes.\n",
    "- Append the original message length (in bits) as a 64-bit big-endian integer.\n"
   ]
  },
  {
   "cell_type": "code",
   "execution_count": null,
   "metadata": {},
   "outputs": [
    {
     "name": "stdout",
     "output_type": "stream",
     "text": [
      "Padding abc.txt: 80000000000000000000000000000000000000000000000000000000000000000000000000000000000000000000000000000000000000000000000018\n",
      "True\n"
     ]
    }
   ],
   "source": [
    "def sha256_padding(file_path):\n",
    "    # Read the file contents in binary mode.\n",
    "    with open(file_path, 'rb') as f:\n",
    "        data = f.read()\n",
    "    \n",
    "    # Compute the original message length in bits.\n",
    "    original_length = len(data)\n",
    "    original_bit_length = original_length * 8\n",
    "\n",
    "    # Step 1: Append the '1' bit as 0x80.\n",
    "    # This represents the bit pattern 10000000.\n",
    "    padding = b'\\x80'\n",
    "\n",
    "    # Step 2: Calculate how many zero bytes are needed.\n",
    "    # After appending 0x80, the message should be padded so that its length (in bytes)\n",
    "    # is congruent to 56 modulo 64. This leaves room for the final 8-byte length field.\n",
    "    # That is, we need: (original_length + 1 + pad_len) % 64 == 56.\n",
    "    pad_len = (56 - (original_length + 1) % 64) % 64\n",
    "    padding += b'\\x00' * pad_len\n",
    "\n",
    "    # Step 3: Append the original length as a 64-bit big-endian integer.\n",
    "    padding += struct.pack('>Q', original_bit_length)\n",
    "\n",
    "    # Return the padding as a hexadecimal string.\n",
    "    return padding.hex()\n",
    "\n",
    "# Example\n",
    "file_path = 'abc.txt'\n",
    "test_answer = \"80000000000000000000000000000000000000000000000000000000000000000000000000000000000000000000000000000000000000000000000018\" # copied from task.md\n",
    "padding = sha256_padding(file_path)\n",
    "print(\"Padding abc.txt: \" + padding)\n",
    "print(padding == test_answer)"
   ]
  },
  {
   "cell_type": "markdown",
   "metadata": {},
   "source": [
    "### **How it works**\n",
    "\n",
    "1. **Reading the file:**\n",
    "    * file is opened using binary mode (i.e., \"rb\"). \n",
    "    * entire content of the file is read into `data`. \n",
    "    * length of the file (in bytes) is stored in a variable (let’s call it `L`)\n",
    "\n",
    "2. **Appending the `1` Bit:**\n",
    "    In SHA256 (and other SHA-2 algorithms), the first step of padding is to signal the end of the original message. This is done by appending a single `1` bit to the message.Although only a single bit is needed, bytes are the smallest addressable unit in computer memory. Thus, the 1 bit is appended as part of a full byte. The byte `0x80` in hexadecimal corresponds to the binary value `10000000`. After appending 0x80, the new message consists of the original data followed by this byte.\n",
    "\n",
    "3. **Zero Padding:**\n",
    "\n",
    "   We then calculate how many zero bytes are needed so that the total length (original message + `0x80` + zeros) is 56 bytes modulo 64. This ensures that when we later add the 8-byte length, the full message length becomes a multiple of 64 bytes (512 bits).\n",
    "\n",
    "   * Let `L` be the original length (in bytes).\n",
    "   * After appending `0x80`, the length becomes `L + 1`.\n",
    "   * The formula used is:\n",
    "\n",
    "     ```python\n",
    "     pad_len = (56 - (L + 1) % 64) % 64\n",
    "     ```\n",
    "    This ensures:\n",
    "    * If `(L + 1)` already leaves a remainder of 56 when divided by 64, no additional zero bytes are required.\n",
    "    * Otherwise, it computes exactly how many 0x00 bytes are needed to reach the target length of 56 modulo 64.\n",
    "\n",
    "\n",
    "4. **Appeding the Message Length:**\n",
    "\n",
    "    The SHA256 padding requires that the last 8 bytes of the padded message represent the length of the original message in bits. This fixed-size representation ensures that the total message length is accurately recorded. Since the original length is in bytes (L), multiplying it by 8 converts it to bits (L * 8). This length is then represented as a 64-bit (8-byte) big-endian integer. In big-endian order, the most significant byte is placed first, which is crucial for consistency across different systems and aligns with the SHA256 specification.\n",
    "\n",
    "    In Python, this conversion can be done using `struct.pack('>Q', L * 8)`, where '[>Q'](https://docs.python.org/3/library/struct.html) denotes an unsigned 64-bit big-endian integer. Alternatively, you can use `int.to_bytes(8, 'big')` on the computed bit length. This 8-byte representation is appended to the padded message, ensuring that the overall length of the padded message is a multiple of 64 bytes."
   ]
  },
  {
   "cell_type": "markdown",
   "metadata": {},
   "source": [
    "[Back to Top](#table-of-contents)\n",
    "\n",
    "---"
   ]
  },
  {
   "cell_type": "markdown",
   "metadata": {},
   "source": [
    "# **Task 4: Prime Numbers**\n",
    "## Introduction\n",
    "\n",
    "Prime numbers have long been a subject of fascination for mathematicians. A prime number is a natural number greater than 1 that has no positive divisors other than 1 and itself. They form the “building blocks” of integers because every integer can be uniquely factored into primes—a principle known as [the Fundamental Theorem of Arithmetic](https://en.wikipedia.org/wiki/Fundamental_theorem_of_arithmetic). Beyond their theoretical importance, prime numbers are also central to modern cryptography, particularly in secure communication systems like RSA. \n",
    "\n",
    "In this task, we will compute the first 100 prime numbers using two different algorithms. We’ll explain how each method works, discuss potential optimizations, and compare their performance.\n"
   ]
  },
  {
   "cell_type": "markdown",
   "metadata": {},
   "source": [
    "### [Optimized Trial Division Method - O(√n) Time and O(1) Space](https://www.geeksforgeeks.org/check-for-prime-number/)\n",
    "Every integer can be written as 6 multiplied by some number `𝑘` plus a remainder `𝑖` (where`𝑖` is 0, 1, 2, 3, 4, or 5). If `𝑖` is 0, 2, 3, or 4, then the number is divisible by 2 or 3. Since primes greater than 3 cannot be divisible by 2 or 3, they must leave a remainder of either 1 or 5 when divided by 6 (i.e. they are of the form `6𝑘+1 or 6k+5 `). This means that when checking if a number is prime, we only need to test numbers in these two forms, which cuts down on the number of checks."
   ]
  },
  {
   "cell_type": "markdown",
   "metadata": {},
   "source": [
    "## Algorithm 1: Sieve of Eratosthenes\n",
    "The Sieve of Eratosthenes is an efficient algorithm to generate all prime numbers up to a given limit. \n",
    "\n",
    "### How it works:\n",
    "\n",
    "1. **Initialization:** Creating a boolean list where each index represents a number. Initially, all numbers are assumed to be prime (set to True), except for 0 and 1.\n",
    "2. **Sieving Process:** Starting from the first prime (2), the algorithm marks all multiples of each prime as non-prime (False). The process continues with the next number that is still marked as prime.\n",
    "3. **Collection:** After processing up to the square root of the limit, the remaining indices marked as True correspond to prime numbers.\n",
    "\n",
    "Since the 100th prime is 541, choosing a limit of 600 ensures that we capture at least 100 primes.\n",
    "\n",
    "For more details on the algorithm, you can refer [the Sieve of Eratosthenes.](https://en.wikipedia.org/wiki/Sieve_of_Eratosthenes)"
   ]
  },
  {
   "cell_type": "code",
   "execution_count": null,
   "metadata": {},
   "outputs": [
    {
     "name": "stdout",
     "output_type": "stream",
     "text": [
      "The first 100 prime numbers are (Sieve of Eratosthenes):\n",
      "[2, 3, 5, 7, 11, 13, 17, 19, 23, 29, 31, 37, 41, 43, 47, 53, 59, 61, 67, 71, 73, 79, 83, 89, 97, 101, 103, 107, 109, 113, 127, 131, 137, 139, 149, 151, 157, 163, 167, 173, 179, 181, 191, 193, 197, 199, 211, 223, 227, 229, 233, 239, 241, 251, 257, 263, 269, 271, 277, 281, 283, 293, 307, 311, 313, 317, 331, 337, 347, 349, 353, 359, 367, 373, 379, 383, 389, 397, 401, 409, 419, 421, 431, 433, 439, 443, 449, 457, 461, 463, 467, 479, 487, 491, 499, 503, 509, 521, 523, 541]\n"
     ]
    }
   ],
   "source": [
    "def sieve_of_eratosthenes(limit):\n",
    "    # Create a list of boolean values, initially set to True.\n",
    "    is_prime = [True] * (limit + 1)\n",
    "    # 0 and 1 are not prime numbers.\n",
    "    is_prime[0] = is_prime[1] = False\n",
    "\n",
    "    # Iterate from 2 up to the square root of the limit.\n",
    "    for i in range(2, int(limit ** 0.5) + 1):\n",
    "        if is_prime[i]:\n",
    "            # Mark multiples of i as non-prime.\n",
    "            for j in range(i * i, limit + 1, i):\n",
    "                is_prime[j] = False\n",
    "\n",
    "    # Return the list of numbers that are prime.\n",
    "    return [num for num, prime in enumerate(is_prime) if prime]\n",
    "\n",
    "# Since the 100th prime is 541, we set the limit to 600 to ensure we have at least 100 primes.\n",
    "primes = sieve_of_eratosthenes(542)\n",
    "\n",
    "print(\"The first\", len(primes), \"prime numbers are (Sieve of Eratosthenes):\")\n",
    "print(primes)"
   ]
  },
  {
   "cell_type": "markdown",
   "metadata": {},
   "source": [
    "## Algorithm 2: Sieve of Sundaram\n",
    "The Sieve of Sundaram is a prime number sieve that generates all prime numbers less than 2n + 2.\n",
    "\n",
    "### How it works:\n",
    "1. Create a list of integers from 1 to n (where n is an upper bound derived from the required number of primes).\n",
    "2. Eliminate numbers of the form `i + j + 2ij` where `1 <= i <= j` and `i + j + 2ij <= n`.\n",
    "3. The remaining numbers, when transformed into `2x + 1`, represent the prime numbers.\n",
    "\n",
    "The advantage of this sieve is that it eliminates non-primes efficiently without requiring division"
   ]
  },
  {
   "cell_type": "code",
   "execution_count": null,
   "metadata": {},
   "outputs": [
    {
     "name": "stdout",
     "output_type": "stream",
     "text": [
      "The first 100 prime numbers are (Sieve of Sundaram):\n",
      "[2, 3, 5, 7, 11, 13, 17, 19, 23, 29, 31, 37, 41, 43, 47, 53, 59, 61, 67, 71, 73, 79, 83, 89, 97, 101, 103, 107, 109, 113, 127, 131, 137, 139, 149, 151, 157, 163, 167, 173, 179, 181, 191, 193, 197, 199, 211, 223, 227, 229, 233, 239, 241, 251, 257, 263, 269, 271, 277, 281, 283, 293, 307, 311, 313, 317, 331, 337, 347, 349, 353, 359, 367, 373, 379, 383, 389, 397, 401, 409, 419, 421, 431, 433, 439, 443, 449, 457, 461, 463, 467, 479, 487, 491, 499, 503, 509, 521, 523, 541]\n"
     ]
    }
   ],
   "source": [
    "def sieve_of_sundaram(limit):\n",
    "    n = (limit - 1) // 2  # We are interested in primes < 2n + 2\n",
    "    sieve = [True] * (n + 1)\n",
    "    \n",
    "    for i in range(1, n + 1):\n",
    "        for j in range(i, (n - i) // (2 * i + 1) + 1):\n",
    "            sieve[i + j + 2 * i * j] = False  # Mark composite numbers\n",
    "    \n",
    "    primes = [2] + [2 * x + 1 for x in range(1, n + 1) if sieve[x]]  # Convert indices to primes\n",
    "    return primes[:limit]\n",
    "\n",
    "# Since the 100th prime is 541, we set the limit to 542 to ensure we have at least 100 primes.\n",
    "first_100_primes = sieve_of_sundaram(542)\n",
    "\n",
    "print(\"The first\", len(first_100_primes), \"prime numbers are (Sieve of Sundaram):\")\n",
    "print(first_100_primes)"
   ]
  },
  {
   "cell_type": "markdown",
   "metadata": {},
   "source": [
    "## Comparison of Prime Number Sieves\n",
    "\n",
    "Various algorithms have been developed to efficiently generate prime numbers. Three notable sieves are:\n",
    "\n",
    "1. [**Sieve of Eratosthenes**](https://en.wikipedia.org/wiki/Sieve_of_Eratosthenes): An ancient algorithm that iteratively marks the multiples of each prime number starting from 2. The numbers that remain unmarked are prime.\n",
    "\n",
    "2. [**Sieve of Sundaram**](https://en.wikipedia.org/wiki/Sieve_of_Sundaram): A sieve that eliminates numbers of the form `i + j + 2ij` (where `1 ≤ i ≤ j`) from a list of integers, then transforms the remaining numbers to obtain primes.\n",
    "\n",
    "3. [**Sieve of Atkin**](https://www.geeksforgeeks.org/sieve-of-atkin/): A modern algorithm that uses quadratic forms and modular arithmetic to identify primes, aiming for improved efficiency over the Sieve of Eratosthenes."
   ]
  },
  {
   "cell_type": "markdown",
   "metadata": {},
   "source": [
    "### Performance Comparison\n",
    "\n",
    "| Sieve Algorithm           | Time Complexity       | Space Complexity | Pros                                         | Cons                                               |\n",
    "|---------------------------|-----------------------|------------------|----------------------------------------------|----------------------------------------------------|\n",
    "| **Sieve of Eratosthenes** | $O(n \\log \\log n)$  | $O(n)$         | Simple implementation; efficient for moderate ranges. | Less efficient for very large numbers due to memory constraints. |\n",
    "| **Sieve of Sundaram**     | $O(n \\log n)$       | $O(n)$         | Operates only on odd numbers, reducing space usage. | Requires additional computation to generate the final list of primes. |\n",
    "| **Sieve of Atkin**        | $O(n / \\log \\log n)$ | $O(n)$         | More efficient for generating large primes.  | Complex implementation; less efficient for smaller ranges. |\n"
   ]
  },
  {
   "cell_type": "markdown",
   "metadata": {},
   "source": [
    "### Detailed Analysis\n",
    "\n",
    "- **Sieve of Eratosthenes**: This algorithm is straightforward and effective for generating all primes up to a moderate limit. Its simplicity makes it a common choice for many applications. However, its performance can degrade for very large numbers due to increased memory usage.\n",
    "\n",
    "- **Sieve of Sundaram**: By focusing solely on odd numbers, this sieve reduces the number of operations and space required. After eliminating numbers of the form `i + j + 2ij`, the remaining numbers are transformed to obtain the primes. While it offers some efficiency benefits, it involves extra steps to produce the final list of primes.\n",
    "\n",
    "- **Sieve of Atkin**: Designed to be more efficient for large ranges, this algorithm uses mathematical properties to identify potential primes and then filters out composites. Its theoretical efficiency is higher, but the complexity of implementation and operations can make it less practical for smaller ranges."
   ]
  },
  {
   "cell_type": "markdown",
   "metadata": {},
   "source": [
    "### Conclusion\n",
    "\n",
    "- **For small to medium-sized prime lists**, the **Sieve of Eratosthenes** is often preferred due to its simplicity and adequate performance.\n",
    "\n",
    "- **In memory-constrained environments**, the **Sieve of Sundaram** offers a space-efficient alternative by operating only on odd numbers.\n",
    "\n",
    "- **For generating primes in very large ranges**, the **Sieve of Atkin** provides better theoretical performance, though its complexity may outweigh benefits for smaller applications."
   ]
  },
  {
   "cell_type": "markdown",
   "metadata": {},
   "source": [
    "### Additional References\n",
    "\n",
    "- [Harahap, M. K., & Khairina, N. (2019). *The Comparison of Methods for Generating Prime Numbers between The Sieve of Eratosthenes, Atkins, and Sundaram*. SinkrOn, 3(2), 293-298. ](https://jurnal.polgan.ac.id/index.php/sinkron/article/view/10129)\n",
    "\n",
    "- [\"Eratosthenes/Sundaram/Atkins Sieve Implementation in C.\" CodeProject. ](https://www.codeproject.com/Articles/490085/Eratosthenes-Sundaram-Atkins-Sieve-Implementation)\n"
   ]
  },
  {
   "cell_type": "markdown",
   "metadata": {},
   "source": [
    "[Back to Top](#table-of-contents)\n",
    "\n",
    "---"
   ]
  },
  {
   "cell_type": "markdown",
   "metadata": {},
   "source": [
    "# **Task 5: Roots**\n",
    "**Calculate the first 32 bits of the fractional part of the square roots of the first 100 prime numbers.**\n",
    "\n",
    "We can show that for any prime number ***p*** the “first 32 bits of the fractional part of its square root” is defined by $$\\text{value}(p) = \\left\\lfloor \\left(\\sqrt{p} - \\lfloor \\sqrt{p} \\rfloor\\right) \\times 2^{32} \\right\\rfloor.$$\n",
    "\n",
    "In other words, if you write $$\\sqrt{p} = N.f_1f_2f_3\\cdots \\quad (\\text{in binary}),$$\n",
    "then the number $$\\left\\lfloor \\left(\\sqrt{p} - N\\right) \\times 2^{32} \\right\\rfloor$$\n",
    "\n",
    "is exactly the 32‐bit unsigned integer whose bit–string is the “first 32 bits” of the fractional part.\n",
    "\n",
    "For example, for $$p = 2$$ we have\n",
    "\n",
    "$$\n",
    "\\sqrt{2} \\approx 1.4142135623730950 \\quad \\Rightarrow \\quad \\sqrt{2} - 1 \\approx 0.4142135623730950,\n",
    "$$\n",
    "\n",
    "and\n",
    "\n",
    "$$\n",
    "0.4142135623730950 \\times 2^{32} \\approx 1779033703.\n",
    "$$\n",
    "\n",
    "In hexadecimal this number is\n",
    "\n",
    "$$\n",
    "1779033703 \\;=\\; 0x6a09e667.\n",
    "$$\n",
    "\n",
    "In fact, it turns out that the values for the first eight primes are exactly the same numbers used as the “initial hash values” in SHA‑256:\n",
    "\n",
    "| Prime $$p$$ | $$\\sqrt{p}$$ (approx.)     | Fractional part $$\\sqrt{p} - \\lfloor \\sqrt{p} \\rfloor$$ | $$\\left\\lfloor \\left(\\sqrt{p} - \\lfloor \\sqrt{p} \\rfloor\\right) \\times 2^{32} \\right\\rfloor$$ (hex) |\n",
    "|:-----------:|:--------------------------:|:---------------------------------------------------------:|:--------------------------------------------------------------------------------------------:|\n",
    "| 2           | 1.414213562373095          | 0.414213562373095                                         | 0x6a09e667                                                                                   |\n",
    "| 3           | 1.732050807568877          | 0.732050807568877                                         | 0xbb67ae85                                                                                   |\n",
    "| 5           | 2.236067977499790          | 0.236067977499790                                         | 0x3c6ef372                                                                                   |\n",
    "| 7           | 2.645751311064591          | 0.645751311064591                                         | 0xa54ff53a                                                                                   |\n",
    "| 11          | 3.316624790355400          | 0.316624790355400                                         | 0x510e527f                                                                                   |\n",
    "| 13          | 3.605551275463990          | 0.605551275463990                                         | 0x9b05688c                                                                                   |\n",
    "| 17          | 4.123105625617661          | 0.123105625617661                                         | 0x1f83d9ab                                                                                   |\n",
    "| 19          | 4.358898943               | 0.358898943                                              | 0x5be0cd19                                                                                   |\n",
    "\n",
    "To perform the calculation for the first 100 primes we can use the Sieve of Eratosthenes `sieve_of_eratosthenes(limit)`.\n",
    "\n",
    "For example, the following code computes the desired 32‐bit numbers (shown here in hexadecimal):"
   ]
  },
  {
   "cell_type": "code",
   "execution_count": null,
   "metadata": {},
   "outputs": [
    {
     "name": "stdout",
     "output_type": "stream",
     "text": [
      "  2: 0x6a09e667\n",
      "  3: 0xbb67ae85\n",
      "  5: 0x3c6ef372\n",
      "  7: 0xa54ff53a\n",
      " 11: 0x510e527f\n",
      " 13: 0x9b05688c\n",
      " 17: 0x1f83d9ab\n",
      " 19: 0x5be0cd19\n",
      " 23: 0xcbbb9d5d\n",
      " 29: 0x629a292a\n",
      " 31: 0x9159015a\n",
      " 37: 0x152fecd8\n",
      " 41: 0x67332667\n",
      " 43: 0x8eb44a87\n",
      " 47: 0xdb0c2e0d\n",
      " 53: 0x47b5481d\n",
      " 59: 0xae5f9156\n",
      " 61: 0xcf6c85d3\n",
      " 67: 0x2f73477d\n",
      " 71: 0x6d1826ca\n",
      " 73: 0x8b43d457\n",
      " 79: 0xe360b596\n",
      " 83: 0x1c456002\n",
      " 89: 0x6f196331\n",
      " 97: 0xd94ebeb1\n",
      "101: 0xcc4a611\n",
      "103: 0x261dc1f2\n",
      "107: 0x5815a7be\n",
      "109: 0x70b7ed67\n",
      "113: 0xa1513c69\n",
      "127: 0x44f93635\n",
      "131: 0x720dcdfd\n",
      "137: 0xb467369e\n",
      "139: 0xca320b75\n",
      "149: 0x34e0d42e\n",
      "151: 0x49c7d9bd\n",
      "157: 0x87abb9f2\n",
      "163: 0xc463a2fc\n",
      "167: 0xec3fc3f3\n",
      "173: 0x27277f6d\n",
      "179: 0x610bebf2\n",
      "181: 0x7420b49e\n",
      "191: 0xd1fd8a33\n",
      "193: 0xe4773594\n",
      "197: 0x92197f6\n",
      "199: 0x1b530c95\n",
      "211: 0x869d6342\n",
      "223: 0xeee52e4f\n",
      "227: 0x11076689\n",
      "229: 0x21fba37b\n",
      "233: 0x43ab9fb6\n",
      "239: 0x75a9f91d\n",
      "241: 0x86305019\n",
      "251: 0xd7cd8173\n",
      "257: 0x7fe00ff\n",
      "263: 0x379f513f\n",
      "269: 0x66b651a8\n",
      "271: 0x764ab842\n",
      "277: 0xa4b06be1\n",
      "281: 0xc3578c15\n",
      "283: 0xd2962a53\n",
      "293: 0x1e039f40\n",
      "307: 0x857b7bee\n",
      "311: 0xa29bf2de\n",
      "313: 0xb11a32e8\n",
      "317: 0xcdf34e80\n",
      "331: 0x31830426\n",
      "337: 0x5b89092b\n",
      "347: 0xa0c06a13\n",
      "349: 0xae79842f\n",
      "353: 0xc9cda689\n",
      "359: 0xf281f239\n",
      "367: 0x28412592\n",
      "373: 0x502e64db\n",
      "379: 0x77c9c211\n",
      "383: 0x9204cd9d\n",
      "389: 0xb91bf663\n",
      "397: 0xecc38c9d\n",
      "401: 0x6656095\n",
      "409: 0x39479381\n",
      "419: 0x78307697\n",
      "421: 0x84ae4b7c\n",
      "431: 0xc2b2b755\n",
      "433: 0xcf03d20e\n",
      "439: 0xf3cbb117\n",
      "443: 0xc2d3b4b\n",
      "449: 0x308af161\n",
      "457: 0x60a7a998\n",
      "461: 0x788d9812\n",
      "463: 0x84769b42\n",
      "467: 0x9c34f062\n",
      "479: 0xe2d564c4\n",
      "487: 0x116d75fd\n",
      "491: 0x2894c107\n",
      "499: 0x569b58c6\n",
      "503: 0x6d7b3939\n",
      "509: 0x8f9f8dbb\n",
      "521: 0xd34f03cd\n",
      "523: 0xde8372ef\n",
      "541: 0x42687a39\n",
      "547: 0x63560208\n",
      "557: 0x99d12353\n",
      "563: 0xba455f46\n",
      "569: 0xda8d73ab\n",
      "571: 0xe5467430\n",
      "577: 0x554bdc2\n",
      "587: 0x3a63a3ba\n",
      "593: 0x5a01e395\n",
      "599: 0x79774abe\n"
     ]
    }
   ],
   "source": [
    "def first_32_frac_bits(n):\n",
    "    # Compute the fractional part of sqrt(n) and scale it to 32 bits\n",
    "    frac = math.sqrt(n) - math.floor(math.sqrt(n))\n",
    "    return int(frac * 2**32)\n",
    "\n",
    "# Since the 100th prime is 541, we set the limit to 600 to ensure we have at least 100 primes.\n",
    "primes = sieve_of_eratosthenes(600)\n",
    "results = {p: hex(first_32_frac_bits(p)) for p in primes}\n",
    "# Print the results in a neat table\n",
    "for p in primes:\n",
    "    print(f\"{p:3}: {results[p]}\")"
   ]
  },
  {
   "cell_type": "markdown",
   "metadata": {},
   "source": [
    "[Back to Top](#table-of-contents)\n",
    "\n",
    "---"
   ]
  },
  {
   "cell_type": "markdown",
   "metadata": {},
   "source": [
    "## **Task 6: Proof of Work**\n",
    "..."
   ]
  },
  {
   "cell_type": "code",
   "execution_count": null,
   "metadata": {},
   "outputs": [],
   "source": []
  },
  {
   "cell_type": "markdown",
   "metadata": {},
   "source": [
    "[Back to Top](#table-of-contents)\n",
    "\n",
    "---"
   ]
  },
  {
   "cell_type": "markdown",
   "metadata": {},
   "source": [
    "## **Task 7: Turing Machines**\n",
    "..."
   ]
  },
  {
   "cell_type": "code",
   "execution_count": null,
   "metadata": {},
   "outputs": [],
   "source": []
  },
  {
   "cell_type": "markdown",
   "metadata": {},
   "source": [
    "[Back to Top](#table-of-contents)\n",
    "\n",
    "---"
   ]
  },
  {
   "cell_type": "markdown",
   "metadata": {},
   "source": [
    "## **Task 8: Computational Complexity**\n",
    "..."
   ]
  },
  {
   "cell_type": "code",
   "execution_count": null,
   "metadata": {},
   "outputs": [],
   "source": []
  },
  {
   "cell_type": "markdown",
   "metadata": {},
   "source": [
    "[Back to Top](#table-of-contents)\n",
    "\n",
    "---"
   ]
  },
  {
   "cell_type": "markdown",
   "metadata": {},
   "source": [
    "## **Conclusion**\n",
    "..."
   ]
  },
  {
   "cell_type": "markdown",
   "metadata": {},
   "source": [
    "[Back to Top](#table-of-contents)\n",
    "\n",
    "---"
   ]
  }
 ],
 "metadata": {
  "kernelspec": {
   "display_name": "Python 3",
   "language": "python",
   "name": "python3"
  },
  "language_info": {
   "codemirror_mode": {
    "name": "ipython",
    "version": 3
   },
   "file_extension": ".py",
   "mimetype": "text/x-python",
   "name": "python",
   "nbconvert_exporter": "python",
   "pygments_lexer": "ipython3",
   "version": "3.12.1"
  }
 },
 "nbformat": 4,
 "nbformat_minor": 2
}
