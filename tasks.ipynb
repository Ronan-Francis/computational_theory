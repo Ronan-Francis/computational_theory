{
 "cells": [
  {
   "cell_type": "markdown",
   "metadata": {},
   "source": [
    "# **Computational Theory Assessment (2024/2025)**\n",
    "Ronan Francis (G00403092)\n",
    "Computational Theory"
   ]
  },
  {
   "cell_type": "code",
   "execution_count": 68,
   "metadata": {},
   "outputs": [],
   "source": [
    "import math\n",
    "import string\n",
    "import random\n",
    "import struct\n",
    "import hashlib"
   ]
  },
  {
   "cell_type": "markdown",
   "metadata": {},
   "source": [
    "## **Table of Contents**\n",
    "1. [Task 1: Binary Representations](#task-1-binary-representations)\n",
    "2. [Task 2: Hash Functions](#task-2-hash-functions)\n",
    "3. [Task 3: SHA256 Padding](#task-3-sha256-padding)\n",
    "4. [Task 4: Prime Numbers](#task-4-prime-numbers)\n",
    "5. [Task 5: Roots](#task-5-roots)\n",
    "6. [Task 6: Proof of Work](#task-6-proof-of-work)\n",
    "7. [Task 7: Turing Machines](#task-7-turing-machines)\n",
    "8. [Task 8: Computational Complexity](#task-8-computational-complexity)\n",
    "\n",
    "---"
   ]
  },
  {
   "cell_type": "markdown",
   "metadata": {},
   "source": [
    "# **Task 1: Binary Representations**\n",
    "\n",
    "## Introduction \n",
    "In this task, we focus on implementing several core functions that manipulate binary representations of 32-bit unsigned integers. These operations are crucial in many fields, including cryptography (like SHA-256), data encoding, and low-level programming.\n",
    "\n",
    "### Circular Shifts\n",
    "\n",
    "Circular shifts (or bit rotations) involve shifting the bits of a number to the left or right, with the bits that \"fall off\" one end reappearing on the opposite end. This operation is distinct from logical shifts, where bits shifted off one end are simply discarded and zeros are introduced on the other end. Circular shifts maintain the bit-length and the overall \"weight\" of the data.\n",
    "\n",
    "For example, when you perform a left circular shift (`rotl`) on a 32-bit integer:\n",
    "- The bits are moved to the left by a specified number of positions.\n",
    "- The bits that move past the most significant bit are wrapped around to the least significant bit positions.\n",
    "\n",
    "Similarly, a right circular shift (`rotr`) moves bits to the right with wrapping from the rightmost bits to the leftmost positions.\n",
    "\n",
    "For more detailed information, see the [Circular Shift Wikipedia article](https://en.wikipedia.org/wiki/Circular_shift).\n",
    "\n",
    "### Bitwise Operators\n",
    "\n",
    "Python provides several bitwise operators that allow for efficient manipulation of integers at the binary level:\n",
    "\n",
    "- **AND (`&`):** Compares each bit of two integers and returns `1` only if both bits are `1`.\n",
    "- **OR (`|`):** Compares each bit of two integers and returns `1` if at least one of the bits is `1`.\n",
    "- **XOR (`^`):** Returns `1` for each bit position where the corresponding bits of the two operands are different.\n",
    "- **NOT (`~`):** Inverts the bits of the operand.\n",
    "- **Left Shift (`<<`):** Shifts the bits of a number to the left by a specified number of positions.\n",
    "- **Right Shift (`>>`):** Shifts the bits of a number to the right by a specified number of positions.\n",
    "\n",
    "These operators form the foundation for our binary manipulation functions. Detailed explanations and examples can be found at [GeeksforGeeks Bitwise Operators](https://www.geeksforgeeks.org/python-bitwise-operators/).\n",
    "\n",
    "In summary, Task 1 involves implementing critical binary operations using circular shifts and bitwise operators. These functions serve as building blocks for more complex algorithms like SHA-256 and are widely applicable in many areas of computer science. By understanding and implementing `rotl`, `rotr`, `ch`, and `maj`, you not only gain proficiency in bitwise manipulation but also lay the groundwork for further exploration into cryptographic and low-level programming concepts.\n",
    "\n",
    "For further reading and a deeper understanding, explore the [Circular Shift](https://en.wikipedia.org/wiki/Circular_shift) and [Bitwise Operators](https://www.geeksforgeeks.org/python-bitwise-operators/) articles.\n"
   ]
  },
  {
   "cell_type": "markdown",
   "metadata": {},
   "source": [
    "## 1. [rotl(x, n=1)](https://en.cppreference.com/w/cpp/numeric/rotl)\n",
    "   - **Purpose:** Rotates the bits of a 32-bit unsigned integer `x` to the left by `n` positions.\n",
    "   - **Method:** Combine a left shift and a right shift using bitwise OR, ensuring the wrapped-around bits are correctly placed.\n",
    "   - **Considerations:** Use a bitmask (`0xFFFFFFFF`) to maintain 32-bit constraints, and handle cases where `n >= 32` by reducing `n` modulo 32."
   ]
  },
  {
   "cell_type": "code",
   "execution_count": 69,
   "metadata": {},
   "outputs": [
    {
     "name": "stdout",
     "output_type": "stream",
     "text": [
      "Original: 1010101\n",
      "Rotated:  0101011\n"
     ]
    }
   ],
   "source": [
    "def rotl(x, n=1):\n",
    "    # How many bits we need to represent x (at least 1)\n",
    "    width = x.bit_length() or 1\n",
    "    mask = (1 << width) - 1 # For example if width is 7, mask is 0b1111111\n",
    "\n",
    "    # Make sure n is in the range [0, width]\n",
    "    n %= width\n",
    "\n",
    "    # Do the rotation:\n",
    "    # - shift x to the left by n bits\n",
    "    # - bitwise AND with the mask to keep only the width least significant bits\n",
    "    # - bitwise OR with the bits that were \"shifted out\" to the left\n",
    "    return ((x << n) & mask) | (x >> (width - n))\n",
    "\n",
    "# Example\n",
    "x = 0b1010101 # 85\n",
    "rotated = rotl(x) # rotate left by 1\n",
    "\n",
    "# Print the binary representation of x and the rotated value, with leading zeros\n",
    "width = x.bit_length() or 1\n",
    "print(\"Original:\", format(x, '0{}b'.format(width)))\n",
    "print(\"Rotated: \", format(rotated, '0{}b'.format(width)))\n"
   ]
  },
  {
   "cell_type": "markdown",
   "metadata": {},
   "source": [
    "## 2. [rotr(x, n=1)](https://en.cppreference.com/w/cpp/numeric/rotr)\n",
    "   - **Purpose:** Rotates the bits of a 32-bit unsigned integer `x` to the right by `n` positions.\n",
    "   - **Method:** Similar to `rotl`, but with right and left shifts interchanged.\n",
    "   - **Considerations:** Maintain 32-bit integrity using a bitmask and modulo operations on `n`."
   ]
  },
  {
   "cell_type": "code",
   "execution_count": 70,
   "metadata": {},
   "outputs": [
    {
     "name": "stdout",
     "output_type": "stream",
     "text": [
      "Original: 101010\n",
      "Rotated:  010101\n"
     ]
    }
   ],
   "source": [
    "def rotr(x, n=1):\n",
    "    width = x.bit_length() or 1 # How many bits we need to represent x (at least 1)\n",
    "    mask = (1 << width) - 1  # For example if width is 7, mask is 0b1111111\n",
    "    x &= mask # Make sure x is in the range [0, 2**width)\n",
    "    n %= width # Make sure n is in the range [0, width)\n",
    "    return (x >> n) | ((x << (width - n)) & mask) # Do the rotation\n",
    "\n",
    "# Example\n",
    "x = 0b0101010 # 42\n",
    "rotated = rotr(x) # rotate left by 1\n",
    "\n",
    "# Print the binary representation of x and the rotated value, with leading zeros\n",
    "width = x.bit_length() or 1\n",
    "print(\"Original:\", format(x, '0{}b'.format(width)))\n",
    "print(\"Rotated: \", format(rotated, '0{}b'.format(width)))"
   ]
  },
  {
   "cell_type": "markdown",
   "metadata": {},
   "source": [
    "## 3. [ch(x, y, z)](https://crypto.stackexchange.com/questions/5358/what-does-maj-and-ch-mean-in-sha-256-algorithm)\n",
    "   - **Purpose:** Implements a bitwise \"choice\" function where for each bit position, if the corresponding bit in `x` is `1`, the output takes the bit from `y`; otherwise, it takes the bit from `z`.\n",
    "   - **Method:** Utilize bitwise operators to combine the bits from `y` and `z` based on `x`.\n",
    "   - **Application:** This function is commonly used in cryptographic algorithms to blend bits in a controlled manner."
   ]
  },
  {
   "cell_type": "code",
   "execution_count": 71,
   "metadata": {},
   "outputs": [
    {
     "name": "stdout",
     "output_type": "stream",
     "text": [
      "Expeted: 0b101\n",
      "Result: 0b101\n"
     ]
    }
   ],
   "source": [
    "def ch(x, y, z):\n",
    "    # (x AND y) XOR (NOT x AND z)\n",
    "    return (x & y) ^ (~ x & z)\n",
    "\n",
    "# Example\n",
    "x = 0b1010 # 10\n",
    "y = 0b0000 # 0  \n",
    "z = 0b1111 # 15\n",
    "\n",
    "result = ch(x, y, z)\n",
    "print(\"Expeted: 0b101\")\n",
    "print(\"Result:\", bin(result))"
   ]
  },
  {
   "cell_type": "markdown",
   "metadata": {},
   "source": [
    "## 4. [maj(x, y, z)](https://crypto.stackexchange.com/questions/5358/what-does-maj-and-ch-mean-in-sha-256-algorithm)\n",
    "   - **Purpose:** Computes the majority vote of the bits in `x`, `y`, and `z` for each bit position. The output bit is `1` if at least two of the three corresponding bits are `1`.\n",
    "   - **Method:** Combine bitwise ANDs and ORs to efficiently determine the majority.\n",
    "   - **Application:** This function is another staple in cryptographic hash functions, ensuring robust diffusion of input bits."
   ]
  },
  {
   "cell_type": "code",
   "execution_count": 72,
   "metadata": {},
   "outputs": [
    {
     "name": "stdout",
     "output_type": "stream",
     "text": [
      "Expected: 0b1010\n",
      "Result:   0b1010\n"
     ]
    }
   ],
   "source": [
    "def maj(x, y, z):\n",
    "    # (x AND y) XOR (x AND z) XOR (y AND z)\n",
    "    return (x & y) ^ (x & z) ^ (y & z)\n",
    "\n",
    "# Example\n",
    "x = 0b1010 # 10\n",
    "y = 0b0000 # 0\n",
    "z = 0b1111 # 15\n",
    "\n",
    "print(\"Expected:\", bin(x))\n",
    "print(\"Result:  \", bin(maj(x, y, z)))"
   ]
  },
  {
   "cell_type": "markdown",
   "metadata": {},
   "source": [
    "[Back to Top](#table-of-contents)\n",
    "\n",
    "---"
   ]
  },
  {
   "cell_type": "markdown",
   "metadata": {},
   "source": [
    "# **Task 2: Hash Functions**\n",
    "\n",
    "In this task, we will convert a classic C hash function from *The C Programming Language* by Brian Kernighan and Dennis Ritchie into Python. The original hash function uses the `ord()` function (in Python, this returns the Unicode code point for a given character) to process each character in a string. For further details on the `ord()` function, see the [ord() Function documentation](https://www.w3schools.com/python/ref_func_ord.asp).\n",
    "\n",
    "## The Original C Hash Function\n",
    "\n",
    "The C code for the hash function is as follows:\n",
    "\n",
    "```c\n",
    "unsigned hash(char *s) {\n",
    "    unsigned hashval;\n",
    "    for (hashval = 0; *s != '\\0'; s++)\n",
    "        hashval = *s + 31 * hashval;\n",
    "    return hashval % 101;\n",
    "}\n"
   ]
  },
  {
   "cell_type": "markdown",
   "metadata": {},
   "source": [
    "### Explanation:\n",
    "- **Loop through the string:** The function iterates over each character in the input string `s`.\n",
    "- **Calculate hash value:** For every character, the hash value is updated by multiplying the current hash value by `31` and then adding the ASCII value of the character. This multiplication factor of ``31`` is chosen because it is a small prime number that helps in spreading out the hash values over a wide range.\n",
    "- **Modulo Operation:** The final hash value is reduced using a modulo operation with `101`, another prime number, which helps in distributing the hash values more uniformly across available buckets (this can be especially useful for hash tables).\n",
    "\n",
    "For more details on the concept of hash sizes and the reasoning behind such choices, refer to [ Hash Size in The C Programming Language.](https://www.cimat.mx/ciencia_para_jovenes/bachillerato/libros/%5BKernighan-Ritchie%5DThe_C_Programming_Language.pdf)"
   ]
  },
  {
   "cell_type": "code",
   "execution_count": 73,
   "metadata": {},
   "outputs": [],
   "source": [
    "def hash(s, base=31, modulus=101):\n",
    "    hashValue = 0\n",
    "    for c in s:\n",
    "        hashValue = ord(c) + base * hashValue # ord(c) returns the ASCII value of c\n",
    "    return hashValue % modulus "
   ]
  },
  {
   "cell_type": "markdown",
   "metadata": {},
   "source": [
    "### Porting to Python\n",
    "To implement the hash function in Python:\n",
    "\n",
    "- **Using [`ord()`](https://www.w3schools.com/python/ref_func_ord.asp):** The `ord()` function is used to obtain the integer representation (Unicode code point) of each character in the string.\n",
    "\n",
    "- **Iteration over the string:** We can iterate over the string directly since Python strings are iterable.\n",
    "\n",
    "- **Modulo Operation:** The modulo operation `(% 101)` is applied at the end to get the final hash value."
   ]
  },
  {
   "cell_type": "code",
   "execution_count": 74,
   "metadata": {},
   "outputs": [
    {
     "name": "stdout",
     "output_type": "stream",
     "text": [
      "'hello' -> 00010001, 17\n",
      "'world' -> 00100010, 34\n",
      "'foo' -> 01000101, 69\n",
      "'bar' -> 00100100, 36\n",
      "'baz' -> 00101100, 44\n",
      "'hash' -> 00001111, 15\n",
      "'collision' -> 00001000, 8\n",
      "'test' -> 01010110, 86\n",
      "'abcd' -> 01100100, 100\n",
      "'abce' -> 00000000, 0\n",
      "'abcf' -> 00000001, 1\n",
      "'java' -> 01011101, 93\n",
      "'python' -> 01011011, 91\n",
      "'rust' -> 00010001, 17\n",
      "'c++' -> 00111100, 60\n",
      "'javascript' -> 00101011, 43\n"
     ]
    }
   ],
   "source": [
    "# Some test strings\n",
    "test_strings = [\n",
    "    \"hello\", \"world\", \"foo\", \"bar\", \"baz\", \"hash\", \"collision\", \"test\",\n",
    "    \"abcd\", \"abce\", \"abcf\", \"java\", \"python\", \"rust\", \"c++\", \"javascript\"\n",
    "]\n",
    "\n",
    "for string in test_strings:\n",
    "    print(f\"{string!r} -> {hash(string):>08b}, {hash(string)}\")"
   ]
  },
  {
   "cell_type": "markdown",
   "metadata": {},
   "source": [
    "*Collison in `rust -> 17` and `hello -> 17`*"
   ]
  },
  {
   "cell_type": "markdown",
   "metadata": {},
   "source": [
    "## Why `31` and `101`\n",
    "\n",
    "After testing various candidates—such as bases `[31, 37, 257]` and moduli `[101, 127, 10_007]`—the values `31` and `101` have emerged as effective choices. As highlighted in Joshua Bloch's [*Effective Java*](https://ia800308.us.archive.org/16/items/java_20230528/Joshua%20Bloch%20-%20Effective%20Java%20%283rd%29%20-%202018.pdf):\n",
    "\n",
    "* The value `31` was chosen because it is an odd prime. If it were even and the multiplication overflowed, information would be lost, because multiplication by `2` is equivalent to shifting. The advantage of using a prime is less clear, but it is traditional.  \n",
    "* A nice property of `31` is that the multiplication can be replaced by a shift and a subtraction for better performance on some architectures: `31 * i == (i << 5) - i`. Modern VMs do this sort of optimization automatically.\n",
    "This allows faster computation on certain architectures.\n",
    "* Since `31 < 32`, it stays within the bit-width of a 32-bit processor.\n",
    "\n",
    "Using `31` as the multiplier helps to generate a well-distributed hash by combining the contributions of each character in a string. Its odd prime nature avoids the pitfalls of even multipliers—such as losing information on overflow—and the computational shortcut (shifting and subtracting) can improve performance.\n",
    "\n",
    "Similarly, the modulus `101` is chosen because it is a prime number. A prime modulus helps minimize collisions by ensuring a more uniform distribution of hash values. While the exact advantage of using a prime modulus like `101` might be less pronounced than that of the multiplier, it remains a traditional choice that has been proven effective in practice.\n",
    "\n",
    "In summary, the combination of `31` and `101` has been historically favored in hash function design due to their mathematical properties and performance benefits, which remain relevant even as testing with other numbers (e.g., `37`, `257` for the base and `127`, `10_007` for the modulus) might show similar behavior in certain scenarios.\n"
   ]
  },
  {
   "cell_type": "markdown",
   "metadata": {},
   "source": [
    "[Back to Top](#table-of-contents)\n",
    "\n",
    "---"
   ]
  },
  {
   "cell_type": "markdown",
   "metadata": {},
   "source": [
    "# **Task 3: SHA256 Padding**\n",
    "\n",
    "The task is to implement a Python function that computes the SHA256 padding for a given file. This involves reading the file's contents in binary mode, calculating the padding according to the SHA256 ([SHA-2 - Wikipedia](https://en.wikipedia.org/wiki/SHA-2)) specification as detailed in [NIST FIPS 180-4](https://doi.org/10.6028/NIST.FIPS.180-4), and outputting the resulting padding in hexadecimal format.\n",
    "\n",
    "In the SHA256 algorithm, before the input message is processed, it must be padded to satisfy the requirement that its total length (in bits) is equal to 448 bytes modulo 512. This is achieved by appending the following to the original message:\n",
    "- **A single `1` bit:** Represented in hexadecimal as `0x80` (binary: `10000000`).\n",
    "- **A series of `0` bits:** Enough zeros are appended so that the length of the message (after adding `0x80` and the zeros) is 56 bytes modulo 64. This ensures that, once an 8-byte (64-bit) representation of the original message length is appended, the overall message length is a multiple of 64 bytes (512 bits).\n",
    "- **The original message length:** The length (in bits) of the original input is appended as a 64-bit big-endian integer.\n",
    "\n",
    "This process is described in detail in [NIST FIPS 180-4](https://doi.org/10.6028/NIST.FIPS.180-4), which is the official document for the Secure Hash Standard (SHS). Additional context can be found on the [SHA-2 - Wikipedia](https://en.wikipedia.org/wiki/SHA-2) Wikipedia page and in [RFC 6234](https://datatracker.ietf.org/doc/html/rfc6234), which provide overviews and implementation notes for SHA-256.\n",
    "\n",
    "In summary, the implementation should:\n",
    "- Open and read the file in binary mode.\n",
    "- Append `0x80` to the file's contents to indicate the start of the padding.\n",
    "- Calculate the number of zero bytes needed so that, with the additional 8-byte length field, the total length is a multiple of 64 bytes.\n",
    "- Append the original message length (in bits) as a 64-bit big-endian integer.\n"
   ]
  },
  {
   "cell_type": "code",
   "execution_count": 75,
   "metadata": {},
   "outputs": [
    {
     "name": "stdout",
     "output_type": "stream",
     "text": [
      "Padding abc.txt: 80000000000000000000000000000000000000000000000000000000000000000000000000000000000000000000000000000000000000000000000018\n",
      "True\n"
     ]
    }
   ],
   "source": [
    "def sha256_padding(file_path):\n",
    "    # Read the file contents in binary mode.\n",
    "    with open(file_path, 'rb') as f:\n",
    "        data = f.read()\n",
    "    \n",
    "    # Compute the original message length in bits.\n",
    "    original_length = len(data)\n",
    "    original_bit_length = original_length * 8\n",
    "\n",
    "    # Step 1: Append the '1' bit as 0x80.\n",
    "    # This represents the bit pattern 10000000.\n",
    "    padding = b'\\x80'\n",
    "\n",
    "    # Step 2: Calculate how many zero bytes are needed.\n",
    "    # After appending 0x80, the message should be padded so that its length (in bytes)\n",
    "    # is congruent to 56 modulo 64. This leaves room for the final 8-byte length field.\n",
    "    # That is, we need: (original_length + 1 + pad_len) % 64 == 56.\n",
    "    pad_len = (56 - (original_length + 1) % 64) % 64\n",
    "    padding += b'\\x00' * pad_len\n",
    "\n",
    "    # Step 3: Append the original length as a 64-bit big-endian integer.\n",
    "    padding += struct.pack('>Q', original_bit_length)\n",
    "\n",
    "    # Return the padding as a hexadecimal string.\n",
    "    return padding.hex()\n",
    "\n",
    "# Example\n",
    "file_path = 'abc.txt'\n",
    "test_answer = \"80000000000000000000000000000000000000000000000000000000000000000000000000000000000000000000000000000000000000000000000018\" # copied from task.md\n",
    "padding = sha256_padding(file_path)\n",
    "print(\"Padding abc.txt: \" + padding)\n",
    "print(padding == test_answer)"
   ]
  },
  {
   "cell_type": "markdown",
   "metadata": {},
   "source": [
    "### **How it works**\n",
    "\n",
    "1. **Reading the file:**\n",
    "    * file is opened using binary mode (i.e., \"rb\"). \n",
    "    * entire content of the file is read into `data`. \n",
    "    * length of the file (in bytes) is stored in a variable (let’s call it `L`)\n",
    "\n",
    "2. **Appending the `1` Bit:**\n",
    "    In SHA256 (and other SHA-2 algorithms), the first step of padding is to signal the end of the original message. This is done by appending a single `1` bit to the message.Although only a single bit is needed, bytes are the smallest addressable unit in computer memory. Thus, the 1 bit is appended as part of a full byte. The byte `0x80` in hexadecimal corresponds to the binary value `10000000`. After appending 0x80, the new message consists of the original data followed by this byte.\n",
    "\n",
    "3. **Zero Padding:**\n",
    "\n",
    "   We then calculate how many zero bytes are needed so that the total length (original message + `0x80` + zeros) is 56 bytes modulo 64. This ensures that when we later add the 8-byte length, the full message length becomes a multiple of 64 bytes (512 bits).\n",
    "\n",
    "   * Let `L` be the original length (in bytes).\n",
    "   * After appending `0x80`, the length becomes `L + 1`.\n",
    "   * The formula used is:\n",
    "\n",
    "     ```python\n",
    "     pad_len = (56 - (L + 1) % 64) % 64\n",
    "     ```\n",
    "    This ensures:\n",
    "    * If `(L + 1)` already leaves a remainder of 56 when divided by 64, no additional zero bytes are required.\n",
    "    * Otherwise, it computes exactly how many 0x00 bytes are needed to reach the target length of 56 modulo 64.\n",
    "\n",
    "\n",
    "4. **Appeding the Message Length:**\n",
    "\n",
    "    The SHA256 padding requires that the last 8 bytes of the padded message represent the length of the original message in bits. This fixed-size representation ensures that the total message length is accurately recorded. Since the original length is in bytes (L), multiplying it by 8 converts it to bits (L * 8). This length is then represented as a 64-bit (8-byte) big-endian integer. In big-endian order, the most significant byte is placed first, which is crucial for consistency across different systems and aligns with the SHA256 specification.\n",
    "\n",
    "    In Python, this conversion can be done using `struct.pack('>Q', L * 8)`, where '[>Q'](https://docs.python.org/3/library/struct.html) denotes an unsigned 64-bit big-endian integer. Alternatively, you can use `int.to_bytes(8, 'big')` on the computed bit length. This 8-byte representation is appended to the padded message, ensuring that the overall length of the padded message is a multiple of 64 bytes."
   ]
  },
  {
   "cell_type": "markdown",
   "metadata": {},
   "source": [
    "[Back to Top](#table-of-contents)\n",
    "\n",
    "---"
   ]
  },
  {
   "cell_type": "markdown",
   "metadata": {},
   "source": [
    "# **Task 4: Prime Numbers**\n",
    "## Introduction\n",
    "\n",
    "Prime numbers have long been a subject of fascination for mathematicians. A prime number is a natural number greater than 1 that has no positive divisors other than 1 and itself. They form the “building blocks” of integers because every integer can be uniquely factored into primes—a principle known as [the Fundamental Theorem of Arithmetic](https://en.wikipedia.org/wiki/Fundamental_theorem_of_arithmetic). Beyond their theoretical importance, prime numbers are also central to modern cryptography, particularly in secure communication systems like RSA. \n",
    "\n",
    "In this task, we will compute the first 100 prime numbers using two different algorithms. We’ll explain how each method works, discuss potential optimizations, and compare their performance.\n"
   ]
  },
  {
   "cell_type": "markdown",
   "metadata": {},
   "source": [
    "### [Optimized Trial Division Method - O(√n) Time and O(1) Space](https://www.geeksforgeeks.org/check-for-prime-number/)\n",
    "Every integer can be written as 6 multiplied by some number `𝑘` plus a remainder `𝑖` (where`𝑖` is 0, 1, 2, 3, 4, or 5). If `𝑖` is 0, 2, 3, or 4, then the number is divisible by 2 or 3. Since primes greater than 3 cannot be divisible by 2 or 3, they must leave a remainder of either 1 or 5 when divided by 6 (i.e. they are of the form `6𝑘+1 or 6k+5 `). This means that when checking if a number is prime, we only need to test numbers in these two forms, which cuts down on the number of checks."
   ]
  },
  {
   "cell_type": "markdown",
   "metadata": {},
   "source": [
    "**Why Not the Optimized Trial Division Method?**  \n",
    "Although the optimized trial division method has a time complexity of O(√n) and minimal space overhead, it is not ideal for generating large lists of primes because:\n",
    "- **Individual Checks:**  \n",
    "  It checks each candidate number individually for primality, which becomes increasingly inefficient as numbers grow larger.\n",
    "- **Computational Expense:**  \n",
    "  For generating a list of primes, this approach is computationally expensive compared to sieve methods, which eliminate many non-prime candidates in a single pass.\n",
    "- **Suitability:**  \n",
    "  The trial division method is better suited for testing the primality of single numbers rather than for bulk generation, where sieve methods (like Eratosthenes and Sundaram) offer superior performance."
   ]
  },
  {
   "cell_type": "markdown",
   "metadata": {},
   "source": [
    "## Algorithm 1: Sieve of Eratosthenes\n",
    "The Sieve of Eratosthenes is an efficient algorithm to generate all prime numbers up to a given limit. \n",
    "\n",
    "### How it works:\n",
    "\n",
    "1. **Initialization:** Creating a boolean list where each index represents a number. Initially, all numbers are assumed to be prime (set to True), except for 0 and 1.\n",
    "2. **Sieving Process:** Starting from the first prime (2), the algorithm marks all multiples of each prime as non-prime (False). The process continues with the next number that is still marked as prime.\n",
    "3. **Collection:** After processing up to the square root of the limit, the remaining indices marked as True correspond to prime numbers.\n",
    "\n",
    "Since the 100th prime is 541, choosing a limit of 600 ensures that we capture at least 100 primes.\n",
    "\n",
    "For more details on the algorithm, you can refer [the Sieve of Eratosthenes.](https://en.wikipedia.org/wiki/Sieve_of_Eratosthenes)"
   ]
  },
  {
   "cell_type": "code",
   "execution_count": 76,
   "metadata": {},
   "outputs": [
    {
     "name": "stdout",
     "output_type": "stream",
     "text": [
      "The first 100 prime numbers are (Sieve of Eratosthenes):\n",
      "[2, 3, 5, 7, 11, 13, 17, 19, 23, 29, 31, 37, 41, 43, 47, 53, 59, 61, 67, 71, 73, 79, 83, 89, 97, 101, 103, 107, 109, 113, 127, 131, 137, 139, 149, 151, 157, 163, 167, 173, 179, 181, 191, 193, 197, 199, 211, 223, 227, 229, 233, 239, 241, 251, 257, 263, 269, 271, 277, 281, 283, 293, 307, 311, 313, 317, 331, 337, 347, 349, 353, 359, 367, 373, 379, 383, 389, 397, 401, 409, 419, 421, 431, 433, 439, 443, 449, 457, 461, 463, 467, 479, 487, 491, 499, 503, 509, 521, 523, 541]\n"
     ]
    }
   ],
   "source": [
    "def sieve_of_eratosthenes(limit):\n",
    "    # Create a list of boolean values, initially set to True.\n",
    "    is_prime = [True] * (limit + 1)\n",
    "    # 0 and 1 are not prime numbers.\n",
    "    is_prime[0] = is_prime[1] = False\n",
    "\n",
    "    # Iterate from 2 up to the square root of the limit.\n",
    "    for i in range(2, int(limit ** 0.5) + 1):\n",
    "        if is_prime[i]:\n",
    "            # Mark multiples of i as non-prime.\n",
    "            for j in range(i * i, limit + 1, i):\n",
    "                is_prime[j] = False\n",
    "\n",
    "    # Return the list of numbers that are prime.\n",
    "    return [num for num, prime in enumerate(is_prime) if prime]\n",
    "\n",
    "# Since the 100th prime is 541, we set the limit to 600 to ensure we have at least 100 primes.\n",
    "primes = sieve_of_eratosthenes(542)\n",
    "\n",
    "print(\"The first\", len(primes), \"prime numbers are (Sieve of Eratosthenes):\")\n",
    "print(primes)"
   ]
  },
  {
   "cell_type": "markdown",
   "metadata": {},
   "source": [
    "## Algorithm 2: Sieve of Sundaram\n",
    "The Sieve of Sundaram is a prime number sieve that generates all prime numbers less than 2n + 2.\n",
    "\n",
    "### How it works:\n",
    "1. Create a list of integers from 1 to n (where n is an upper bound derived from the required number of primes).\n",
    "2. Eliminate numbers of the form `i + j + 2ij` where `1 <= i <= j` and `i + j + 2ij <= n`.\n",
    "3. The remaining numbers, when transformed into `2x + 1`, represent the prime numbers.\n",
    "\n",
    "The advantage of this sieve is that it eliminates non-primes efficiently without requiring division"
   ]
  },
  {
   "cell_type": "code",
   "execution_count": 77,
   "metadata": {},
   "outputs": [
    {
     "name": "stdout",
     "output_type": "stream",
     "text": [
      "The first 100 prime numbers are (Sieve of Sundaram):\n",
      "[2, 3, 5, 7, 11, 13, 17, 19, 23, 29, 31, 37, 41, 43, 47, 53, 59, 61, 67, 71, 73, 79, 83, 89, 97, 101, 103, 107, 109, 113, 127, 131, 137, 139, 149, 151, 157, 163, 167, 173, 179, 181, 191, 193, 197, 199, 211, 223, 227, 229, 233, 239, 241, 251, 257, 263, 269, 271, 277, 281, 283, 293, 307, 311, 313, 317, 331, 337, 347, 349, 353, 359, 367, 373, 379, 383, 389, 397, 401, 409, 419, 421, 431, 433, 439, 443, 449, 457, 461, 463, 467, 479, 487, 491, 499, 503, 509, 521, 523, 541]\n"
     ]
    }
   ],
   "source": [
    "def sieve_of_sundaram(limit):\n",
    "    n = (limit - 1) // 2  # We are interested in primes < 2n + 2\n",
    "    sieve = [True] * (n + 1)\n",
    "    \n",
    "    for i in range(1, n + 1):\n",
    "        for j in range(i, (n - i) // (2 * i + 1) + 1):\n",
    "            sieve[i + j + 2 * i * j] = False  # Mark composite numbers\n",
    "    \n",
    "    primes = [2] + [2 * x + 1 for x in range(1, n + 1) if sieve[x]]  # Convert indices to primes\n",
    "    return primes[:limit]\n",
    "\n",
    "# Since the 100th prime is 541, we set the limit to 542 to ensure we have at least 100 primes.\n",
    "first_100_primes = sieve_of_sundaram(542)\n",
    "\n",
    "print(\"The first\", len(first_100_primes), \"prime numbers are (Sieve of Sundaram):\")\n",
    "print(first_100_primes)"
   ]
  },
  {
   "cell_type": "markdown",
   "metadata": {},
   "source": [
    "## Comparison of Prime Number Sieves\n",
    "\n",
    "Various algorithms have been developed to efficiently generate prime numbers. Three notable sieves are:\n",
    "\n",
    "1. [**Sieve of Eratosthenes**](https://en.wikipedia.org/wiki/Sieve_of_Eratosthenes): An ancient algorithm that iteratively marks the multiples of each prime number starting from 2. The numbers that remain unmarked are prime.\n",
    "\n",
    "2. [**Sieve of Sundaram**](https://en.wikipedia.org/wiki/Sieve_of_Sundaram): A sieve that eliminates numbers of the form `i + j + 2ij` (where `1 ≤ i ≤ j`) from a list of integers, then transforms the remaining numbers to obtain primes.\n"
   ]
  },
  {
   "cell_type": "markdown",
   "metadata": {},
   "source": [
    "### Performance Comparison\n",
    "\n",
    "| Sieve Algorithm           | Time Complexity       | Space Complexity | Pros                                         | Cons                                               |\n",
    "|---------------------------|-----------------------|------------------|----------------------------------------------|----------------------------------------------------|\n",
    "| **Sieve of Eratosthenes** | $O(n \\log \\log n)$  | $O(n)$         | Simple implementation; efficient for moderate ranges. | Less efficient for very large numbers due to memory constraints. |\n",
    "| **Sieve of Sundaram**     | $O(n \\log n)$       | $O(n)$         | Operates only on odd numbers, reducing space usage. | Requires additional computation to generate the final list of primes. |\n"
   ]
  },
  {
   "cell_type": "markdown",
   "metadata": {},
   "source": [
    "### Detailed Analysis\n",
    "\n",
    "- **Sieve of Eratosthenes**: This algorithm is straightforward and effective for generating all primes up to a moderate limit. Its simplicity makes it a common choice for many applications. However, its performance can degrade for very large numbers due to increased memory usage.\n",
    "\n",
    "- **Sieve of Sundaram**: By focusing solely on odd numbers, this sieve reduces the number of operations and space required. After eliminating numbers of the form `i + j + 2ij`, the remaining numbers are transformed to obtain the primes. While it offers some efficiency benefits, it involves extra steps to produce the final list of primes."
   ]
  },
  {
   "cell_type": "markdown",
   "metadata": {},
   "source": [
    "### Conclusion\n",
    "\n",
    "- **For small to medium-sized prime lists**, the **Sieve of Eratosthenes** is often preferred due to its simplicity and adequate performance.\n",
    "\n",
    "- **In memory-constrained environments**, the **Sieve of Sundaram** offers a space-efficient alternative by operating only on odd numbers."
   ]
  },
  {
   "cell_type": "markdown",
   "metadata": {},
   "source": [
    "### Additional References\n",
    "\n",
    "- [Harahap, M. K., & Khairina, N. (2019). *The Comparison of Methods for Generating Prime Numbers between The Sieve of Eratosthenes, Atkins, and Sundaram*. SinkrOn, 3(2), 293-298. ](https://jurnal.polgan.ac.id/index.php/sinkron/article/view/10129)\n",
    "\n",
    "- [\"Eratosthenes/Sundaram/Atkins Sieve Implementation in C.\" CodeProject. ](https://www.codeproject.com/Articles/490085/Eratosthenes-Sundaram-Atkins-Sieve-Implementation)\n"
   ]
  },
  {
   "cell_type": "markdown",
   "metadata": {},
   "source": [
    "[Back to Top](#table-of-contents)\n",
    "\n",
    "---"
   ]
  },
  {
   "cell_type": "markdown",
   "metadata": {},
   "source": [
    "# Task 5: Roots\n",
    "\n",
    "Calculate the first 32 bits of the fractional part of the square roots of the first 100 prime numbers.\n",
    "\n",
    "In this guide, we break down the `get_fractional_bits()` function linearly. The function calculates the first 32 bits of the fractional part of the square root of a given number. We'll demonstrate each step using a specific prime number (in this case, 257) as an example."
   ]
  },
  {
   "cell_type": "code",
   "execution_count": 78,
   "metadata": {},
   "outputs": [],
   "source": [
    "# Setup: Assign a prime number for testing\n",
    "test_prime = 257"
   ]
  },
  {
   "cell_type": "markdown",
   "metadata": {},
   "source": [
    "## Step 1: Calculate the Square Root\n",
    "\n",
    "We begin by calculating the square root of the given number using Python's `math.sqrt()` function."
   ]
  },
  {
   "cell_type": "code",
   "execution_count": 79,
   "metadata": {},
   "outputs": [
    {
     "name": "stdout",
     "output_type": "stream",
     "text": [
      "Square root of 257 is 16.0312195418814\n"
     ]
    }
   ],
   "source": [
    "# Step 1: Compute the square root of the number\n",
    "root = math.sqrt(test_prime)\n",
    "print(\"Square root of\", test_prime, \"is\", root)\n",
    "# Expected output: Square root of 2 is approximately 16.0312195418814"
   ]
  },
  {
   "cell_type": "markdown",
   "metadata": {},
   "source": [
    "## Step 2: Extract the Fractional Part\n",
    "\n",
    "Next, we subtract the integer portion of the square root (using `math.floor()`) to isolate the fractional part."
   ]
  },
  {
   "cell_type": "code",
   "execution_count": 80,
   "metadata": {},
   "outputs": [
    {
     "name": "stdout",
     "output_type": "stream",
     "text": [
      "Fractional part of 16.0312195418814 is 0.031219541881398527\n"
     ]
    }
   ],
   "source": [
    "# Step 2: Isolate the fractional part by subtracting the floor of the root\n",
    "fractional_part = root - math.floor(root)\n",
    "print(\"Fractional part of\", root, \"is\", fractional_part)\n",
    "# Expected output: Fractional part of ~16.0312195418814 is 0.031219541881398527"
   ]
  },
  {
   "cell_type": "markdown",
   "metadata": {},
   "source": [
    "## Step 3: Shift the Fractional Bits\n",
    "\n",
    "To capture the first 32 binary digits, multiply the fractional part by 2 raised to the power of 32."
   ]
  },
  {
   "cell_type": "code",
   "execution_count": 81,
   "metadata": {},
   "outputs": [
    {
     "name": "stdout",
     "output_type": "stream",
     "text": [
      "Shifted value: 134086911.37670898\n"
     ]
    }
   ],
   "source": [
    "# Step 3: Multiply the fractional part by 2^32 to shift the bits into the integer part\n",
    "bits = 32\n",
    "shifted_value = fractional_part * (2 ** bits)\n",
    "print(\"Shifted value:\", shifted_value)\n",
    "# The shifted value is a float where its integer part corresponds to the first 32 binary digits."
   ]
  },
  {
   "cell_type": "markdown",
   "metadata": {},
   "source": [
    "## Step 4: Convert to an Integer\n",
    "\n",
    "Convert the shifted value to an integer. This step discards any remaining fractional bits beyond the first 32."
   ]
  },
  {
   "cell_type": "code",
   "execution_count": 82,
   "metadata": {},
   "outputs": [
    {
     "name": "stdout",
     "output_type": "stream",
     "text": [
      "Integer value representing the first 32 bits: 134086911\n"
     ]
    }
   ],
   "source": [
    "# Step 4: Convert the shifted value to an integer\n",
    "int_value = int(shifted_value)\n",
    "print(\"Integer value representing the first 32 bits:\", int_value)\n",
    "# The integer value now holds the bit pattern of the fractional part."
   ]
  },
  {
   "cell_type": "markdown",
   "metadata": {},
   "source": [
    "## Step 5: Format as a 32-bit Binary String\n",
    "\n",
    "Finally, format the integer into a binary string that is exactly 32 bits long, padding with zeros if necessary.\n"
   ]
  },
  {
   "cell_type": "code",
   "execution_count": 83,
   "metadata": {},
   "outputs": [
    {
     "name": "stdout",
     "output_type": "stream",
     "text": [
      "32-bit binary representation: 00000111111111100000000011111111\n"
     ]
    }
   ],
   "source": [
    "# Step 5: Format the integer as a binary string padded to 32 bits\n",
    "binary_string = format(int_value, f'0{bits}b')\n",
    "print(\"32-bit binary representation:\", binary_string)\n",
    "# Expected output: A 32-character binary string, for example \"01101001011010101100101010101111\"\n"
   ]
  },
  {
   "cell_type": "markdown",
   "metadata": {},
   "source": [
    "## Algorithm Summary\n",
    "\n",
    "1. **Compute the square root** of the given number.\n",
    "2. **Extract the fractional part** by subtracting the floor of the square root.\n",
    "3. **Shift the fractional bits** to the left by multiplying by 2^32.\n",
    "4. **Convert the shifted value** to an integer, discarding extra fractional bits.\n",
    "5. **Format the integer** into a 32-bit binary string with proper zero-padding.\n"
   ]
  },
  {
   "cell_type": "markdown",
   "metadata": {},
   "source": [
    "## Testing the Complete Function\n",
    "\n",
    "Below is the complete `get_fractional_bits()` function along with testing code using the prime number 2.\n"
   ]
  },
  {
   "cell_type": "code",
   "execution_count": 84,
   "metadata": {},
   "outputs": [
    {
     "name": "stdout",
     "output_type": "stream",
     "text": [
      "First 32 bits of the fractional part of sqrt(257): 00000111111111100000000011111111\n"
     ]
    }
   ],
   "source": [
    "def get_fractional_bits(num, bits=32):\n",
    "    # Step 1: Compute square root\n",
    "    root = math.sqrt(num)\n",
    "    \n",
    "    # Step 2: Extract the fractional part\n",
    "    fractional_part = root - math.floor(root)\n",
    "    \n",
    "    # Step 3: Shift the fractional part to extract the first 'bits' binary digits\n",
    "    shifted_value = fractional_part * (2 ** bits)\n",
    "    \n",
    "    # Step 4: Convert the shifted value to an integer\n",
    "    int_value = int(shifted_value)\n",
    "    \n",
    "    # Step 5: Format the integer as a 32-bit binary string (with leading zeros if needed)\n",
    "    binary_string = format(int_value, f'0{bits}b')\n",
    "    \n",
    "    return binary_string\n",
    "\n",
    "# Testing the function with the prime number 2\n",
    "result = get_fractional_bits(test_prime)\n",
    "print(f\"First 32 bits of the fractional part of sqrt({test_prime}):\", result)"
   ]
  },
  {
   "cell_type": "code",
   "execution_count": 85,
   "metadata": {},
   "outputs": [
    {
     "name": "stdout",
     "output_type": "stream",
     "text": [
      "Prime| 32-bit Fractional Part              || Prime| 32-bit Fractional Part             || Prime| 32-bit Fractional Part             || Prime| 32-bit Fractional Part             \n",
      "2    | 01101010000010011110011001100111    || 101  | 00001100110001001010011000010001   || 233  | 01000011101010111001111110110110   || 383  | 10010010000001001100110110011101   \n",
      "3    | 10111011011001111010111010000101    || 103  | 00100110000111011100000111110010   || 239  | 01110101101010011111100100011101   || 389  | 10111001000110111111011001100011   \n",
      "5    | 00111100011011101111001101110010    || 107  | 01011000000101011010011110111110   || 241  | 10000110001100000101000000011001   || 397  | 11101100110000111000110010011101   \n",
      "7    | 10100101010011111111010100111010    || 109  | 01110000101101111110110101100111   || 251  | 11010111110011011000000101110011   || 401  | 00000110011001010110000010010101   \n",
      "11   | 01010001000011100101001001111111    || 113  | 10100001010100010011110001101001   || 257  | 00000111111111100000000011111111   || 409  | 00111001010001111001001110000001   \n",
      "13   | 10011011000001010110100010001100    || 127  | 01000100111110010011011000110101   || 263  | 00110111100111110101000100111111   || 419  | 01111000001100000111011010010111   \n",
      "17   | 00011111100000111101100110101011    || 131  | 01110010000011011100110111111101   || 269  | 01100110101101100101000110101000   || 421  | 10000100101011100100101101111100   \n",
      "19   | 01011011111000001100110100011001    || 137  | 10110100011001110011011010011110   || 271  | 01110110010010101011100001000010   || 431  | 11000010101100101011011101010101   \n",
      "23   | 11001011101110111001110101011101    || 139  | 11001010001100100000101101110101   || 277  | 10100100101100000110101111100001   || 433  | 11001111000000111101001000001110   \n",
      "29   | 01100010100110100010100100101010    || 149  | 00110100111000001101010000101110   || 281  | 11000011010101111000110000010101   || 439  | 11110011110010111011000100010111   \n",
      "31   | 10010001010110010000000101011010    || 151  | 01001001110001111101100110111101   || 283  | 11010010100101100010101001010011   || 443  | 00001100001011010011101101001011   \n",
      "37   | 00010101001011111110110011011000    || 157  | 10000111101010111011100111110010   || 293  | 00011110000000111001111101000000   || 449  | 00110000100010101111000101100001   \n",
      "41   | 01100111001100110010011001100111    || 163  | 11000100011000111010001011111100   || 307  | 10000101011110110111101111101110   || 457  | 01100000101001111010100110011000   \n",
      "43   | 10001110101101000100101010000111    || 167  | 11101100001111111100001111110011   || 311  | 10100010100110111111001011011110   || 461  | 01111000100011011001100000010010   \n",
      "47   | 11011011000011000010111000001101    || 173  | 00100111001001110111111101101101   || 313  | 10110001000110100011001011101000   || 463  | 10000100011101101001101101000010   \n",
      "53   | 01000111101101010100100000011101    || 179  | 01100001000010111110101111110010   || 317  | 11001101111100110100111010000000   || 467  | 10011100001101001111000001100010   \n",
      "59   | 10101110010111111001000101010110    || 181  | 01110100001000001011010010011110   || 331  | 00110001100000110000010000100110   || 479  | 11100010110101010110010011000100   \n",
      "61   | 11001111011011001000010111010011    || 191  | 11010001111111011000101000110011   || 337  | 01011011100010010000100100101011   || 487  | 00010001011011010111010111111101   \n",
      "67   | 00101111011100110100011101111101    || 193  | 11100100011101110011010110010100   || 347  | 10100000110000000110101000010011   || 491  | 00101000100101001100000100000111   \n",
      "71   | 01101101000110000010011011001010    || 197  | 00001001001000011001011111110110   || 349  | 10101110011110011000010000101111   || 499  | 01010110100110110101100011000110   \n",
      "73   | 10001011010000111101010001010111    || 199  | 00011011010100110000110010010101   || 353  | 11001001110011011010011010001001   || 503  | 01101101011110110011100100111001   \n",
      "79   | 11100011011000001011010110010110    || 211  | 10000110100111010110001101000010   || 359  | 11110010100000011111001000111001   || 509  | 10001111100111111000110110111011   \n",
      "83   | 00011100010001010110000000000010    || 223  | 11101110111001010010111001001111   || 367  | 00101000010000010010010110010010   || 521  | 11010011010011110000001111001101   \n",
      "89   | 01101111000110010110001100110001    || 227  | 00010001000001110110011010001001   || 373  | 01010000001011100110010011011011   || 523  | 11011110100000110111001011101111   \n",
      "97   | 11011001010011101011111010110001    || 229  | 00100001111110111010001101111011   || 379  | 01110111110010011100001000010001   || 541  | 01000010011010000111101000111001   \n"
     ]
    }
   ],
   "source": [
    "# Compute and store the 32-bit binary fractional part for each prime.\n",
    "first_100_primes = sieve_of_sundaram(542)\n",
    "fractional_bits = {prime: get_fractional_bits(prime) for prime in first_100_primes}\n",
    "# First, sort the primes\n",
    "sorted_primes = sorted(fractional_bits)\n",
    "n = len(sorted_primes)\n",
    "\n",
    "# Calculate the number of rows required (ceiling of n divided by 4)\n",
    "rows = (n + 2) // 4  # +2 ensures proper ceiling for division by 4\n",
    "\n",
    "# Define a format for printing three columns side by side.\n",
    "row_format = \"{:<5}| {:<35} || {:<5}| {:<35}|| {:<5}| {:<35}|| {:<5}| {:<35}\"\n",
    "\n",
    "# Print header for all three columns.\n",
    "header = row_format.format(\"Prime\", \"32-bit Fractional Part\", \n",
    "                           \"Prime\", \"32-bit Fractional Part\", \n",
    "                           \"Prime\", \"32-bit Fractional Part\",\n",
    "                           \"Prime\", \"32-bit Fractional Part\")\n",
    "print(header)\n",
    "\n",
    "# Iterate over the number of rows and print each corresponding row from each column.\n",
    "for i in range(rows):\n",
    "    # Column 1: index i\n",
    "    col1_prime = sorted_primes[i] if i < len(sorted_primes) else \"\"\n",
    "    col1_bits = fractional_bits[col1_prime] if col1_prime != \"\" else \"\"\n",
    "    \n",
    "    # Column 2: index i + rows\n",
    "    idx2 = i + rows\n",
    "    col2_prime = sorted_primes[idx2] if idx2 < len(sorted_primes) else \"\"\n",
    "    col2_bits = fractional_bits[col2_prime] if col2_prime != \"\" else \"\"\n",
    "    \n",
    "    # Column 3: index i + 2*rows\n",
    "    idx3 = i + 2 * rows\n",
    "    col3_prime = sorted_primes[idx3] if idx3 < len(sorted_primes) else \"\"\n",
    "    col3_bits = fractional_bits[col3_prime] if col3_prime != \"\" else \"\"\n",
    "\n",
    "    # Column 4: index i + 3*rows\n",
    "    idx4 = i + 3 * rows\n",
    "    col4_prime = sorted_primes[idx4] if idx4 < len(sorted_primes) else \"\"\n",
    "    col4_bits = fractional_bits[col4_prime] if col4_prime != \"\" else \"\"\n",
    "    \n",
    "    print(row_format.format(str(col1_prime), col1_bits, \n",
    "                            str(col2_prime), col2_bits, \n",
    "                            str(col3_prime), col3_bits,\n",
    "                            str(col4_prime), col4_bits))"
   ]
  },
  {
   "cell_type": "markdown",
   "metadata": {},
   "source": [
    "[Back to Top](#table-of-contents)\n",
    "\n",
    "---"
   ]
  },
  {
   "cell_type": "markdown",
   "metadata": {},
   "source": [
    "# **Task 6: Proof of Work**\n",
    "Find the word(s) in the English language with the greatest number of `0` bits at the beginning of their SHA256 hash digest.  \n",
    "Include proof that any word you list is in at least one English dictionary.  \n",
    "\n",
    "In this task, we must search through an English word list to find the word(s) whose SHA256 hash begins with the greatest number of consecutive 0 bits. I used a word list from [Word Lists](https://web.archive.org/web/20131118073324/https://www.infochimps.com/datasets/word-list-350000-simple-english-words-excel-readable) and verified that any candidate appears in an English dictionary – for example, see the entry for “goaltenders” in [Collins Dictionary](https://www.collinsdictionary.com/dictionary/english/goaltender#:~:text=Word%20forms%3A-,goaltenders,-countable%20noun)."
   ]
  },
  {
   "cell_type": "markdown",
   "metadata": {},
   "source": [
    "## 1. Computing the Number of Leading 0 Bits in a SHA256 Digest\n",
    "This function computes the SHA256 hash of a given word and then counts how many consecutive 0 bits appear starting from the most significant bit."
   ]
  },
  {
   "cell_type": "code",
   "execution_count": 86,
   "metadata": {},
   "outputs": [
    {
     "name": "stdout",
     "output_type": "stream",
     "text": [
      "First 12 bits of SHA256('hello') in binary:\n",
      "0010110011110010010011011011101001011111101100001010001100001110...\n",
      "\n",
      "Leading 0 bits in full digest: 2\n"
     ]
    }
   ],
   "source": [
    "# hashlib is a built-in library in Python for hashing algorithms\n",
    "word = \"hello\"\n",
    "digest = hashlib.sha256(word.encode('utf-8')).digest()\n",
    "\n",
    "# Convert digest to a single binary string\n",
    "binary_str = ''.join(format(byte, '08b') for byte in digest)\n",
    "\n",
    "# Cut after 12 bits for display\n",
    "cut_str = binary_str[:64]\n",
    "\n",
    "# Count leading zeros in the full digest\n",
    "leading_zeros = len(binary_str) - len(binary_str.lstrip('0'))\n",
    "\n",
    "print(\"First 12 bits of SHA256('hello') in binary:\")\n",
    "print(cut_str+\"...\")\n",
    "print(\"\\nLeading 0 bits in full digest:\", leading_zeros)\n"
   ]
  },
  {
   "cell_type": "markdown",
   "metadata": {},
   "source": [
    "### Using Hello\n",
    "\n",
    "* The result is a 32-byte digest (since SHA256 produces a 256-bit hash).\n",
    "* For example, the first byte in this digest is 0x2C (displayed as , in the byte string), which in binary is 00101100.\n",
    "* This digest serves as the basis for our next step, where we count how many consecutive 0 bits appear from the beginning."
   ]
  },
  {
   "cell_type": "code",
   "execution_count": 87,
   "metadata": {},
   "outputs": [
    {
     "name": "stdout",
     "output_type": "stream",
     "text": [
      "Number of leading 0 bits in SHA256('hello'): 2\n"
     ]
    }
   ],
   "source": [
    "count = 0\n",
    "found = False  # Flag to indicate when the first '1' is found\n",
    "\n",
    "# Loop through each byte in the digest\n",
    "for byte in digest:\n",
    "    # Check each bit from most significant (bit 7) to least significant (bit 0)\n",
    "    for i in range(8):\n",
    "        if byte & (1 << (7 - i)):\n",
    "            # As soon as a 1 is encountered, print the count and exit both loops\n",
    "            found = True\n",
    "            break\n",
    "        else:\n",
    "            count += 1\n",
    "    if found:\n",
    "        break\n",
    "    \n",
    "# Print the number of leading zeros\n",
    "print(f\"Number of leading 0 bits in SHA256('{word}'): {count}\")"
   ]
  },
  {
   "cell_type": "markdown",
   "metadata": {},
   "source": [
    "### Function `leading_zero_bits(word)`"
   ]
  },
  {
   "cell_type": "code",
   "execution_count": 88,
   "metadata": {},
   "outputs": [
    {
     "name": "stdout",
     "output_type": "stream",
     "text": [
      "Number of leading 0 bits in SHA256('Digest'): 1\n"
     ]
    }
   ],
   "source": [
    "def leading_zero_bits(word):\n",
    "    \"\"\"\n",
    "    Computes the SHA256 hash digest for a given word (UTF-8 encoded) and\n",
    "    returns the number of consecutive 0 bits at the beginning of the digest.\n",
    "    \"\"\"\n",
    "    # Compute the SHA256 digest.\n",
    "    digest = hashlib.sha256(word.encode('utf-8')).digest()\n",
    "    count = 0\n",
    "    # Loop through each byte in the digest.\n",
    "    for byte in digest:\n",
    "        # Check each bit from most significant (bit 7) to least significant (bit 0)\n",
    "        for i in range(8):\n",
    "            if byte & (1 << (7 - i)):\n",
    "                # As soon as a 1 is encountered, return the count.\n",
    "                return count\n",
    "            count += 1\n",
    "    return count\n",
    "\n",
    "# Example usage\n",
    "word = \"Digest\"\n",
    "count = leading_zero_bits(word)\n",
    "print(f\"Number of leading 0 bits in SHA256('{word}'): {count}\")"
   ]
  },
  {
   "cell_type": "markdown",
   "metadata": {},
   "source": [
    "### Counting Zeros:\n",
    "* It then initializes a counter (count) to track the number of consecutive 0 bits.\n",
    "* The function loops through each byte in the digest.\n",
    "* For each byte, it examines every bit from the most significant (leftmost) to the least significant (rightmost) using a bit mask.\n",
    "\n",
    "### Early Termination:\n",
    "* When a bit with the value 1 is found, the function immediately returns the count of 0 bits encountered up to that point.\n",
    "* For instance, if the first byte is 0x2C (binary 00101100), the function counts:\n",
    "    * Bit 1: 0\n",
    "    * Bit 2: 0\n",
    "    * Bit 3: 1 (stop here)\n",
    "\n",
    "Hence, for \"hello\", the function would return 2, since the digest starts with 2 consecutive 0 bits."
   ]
  },
  {
   "cell_type": "markdown",
   "metadata": {},
   "source": [
    "## 2. Loading an English Word List & Finding the Word(s) with Maximum Leading 0 Bits\n",
    "This section iterates through the word list, computes the number of leading 0 bits for each word, and keeps track of the word(s) with the highest count."
   ]
  },
  {
   "cell_type": "code",
   "execution_count": 89,
   "metadata": {},
   "outputs": [],
   "source": [
    "# Try to use the infochimps file.\n",
    "dictionary_path = 'words.txt'\n",
    "try:\n",
    "    with open(dictionary_path, 'r') as f:\n",
    "        words = [line.strip() for line in f if line.strip()]\n",
    "except FileNotFoundError:\n",
    "    print(f\"File {dictionary_path} not found.\")\n",
    "# Initialize variables to track the maximum number of leading zeros\n",
    "max_zeros = -1\n",
    "best_words = []"
   ]
  },
  {
   "cell_type": "code",
   "execution_count": 90,
   "metadata": {},
   "outputs": [
    {
     "name": "stdout",
     "output_type": "stream",
     "text": [
      "Maximum leading 0 bits: 18\n",
      "Word(s) achieving that: ['goaltenders']\n"
     ]
    }
   ],
   "source": [
    "for word in words:\n",
    "    # Consider only words that consist of alphabetic characters.\n",
    "    if not word.isalpha():\n",
    "        continue\n",
    "    # Convert to lower-case to ensure consistency.\n",
    "    zeros = leading_zero_bits(word.lower())\n",
    "    # Update our best candidate(s) if this word has more leading zeros.\n",
    "    if zeros > max_zeros:\n",
    "        max_zeros = zeros\n",
    "        best_words = [word]\n",
    "    elif zeros == max_zeros:\n",
    "        best_words.append(word)\n",
    "\n",
    "print(\"Maximum leading 0 bits:\", max_zeros)\n",
    "print(\"Word(s) achieving that:\", best_words)\n"
   ]
  },
  {
   "cell_type": "markdown",
   "metadata": {},
   "source": [
    "### Proof of Work\n",
    "\n",
    "In this task, I searched for English word(s) that produce the highest number of leading zero bits in their SHA-256 hash digest — a process analogous to the proof-of-work concept used in blockchain mining. After testing a comprehensive English word list, the word **\"[goaltenders](https://www.collinsdictionary.com/dictionary/english/goaltender#:~:text=Word%20forms%3A-,goaltenders,-countable%20noun)\n",
    "\"** achieved the highest observed result, with **18 leading zero bits** in its hash digest.\n",
    "\n",
    "The fact that 'goaltenders' naturally produced a SHA-256 digest with 18 leading zero bits demonstrates the probabilistic nature of hash functions; even without intentional manipulation, some inputs naturally yield digests with more leading zeroes due to randomness and uniform distribution. While 18 leading zero bits are far from cryptographic difficulty thresholds (e.g., 20+ bits typically used in mining puzzles), it highlights the usefulness of hash functions as computational puzzles where \"work\" can be verified simply by re-hashing the result.\n",
    "\n",
    "The word **\"goaltenders\"** was verified to exist in a standard English dictionary, satisfying the task requirement that all results be valid words. The word list used was:  \n",
    "[`words.txt`](https://web.archive.org/web/20131118073324/https://www.infochimps.com/datasets/word-list-350000-simple-english-words-excel-readable)) *(InfoChimps datasets `web.archive.org`)*  \n",
    "\n",
    "This task helped illustrate both the properties of SHA-256 and the broader concept of computational difficulty through hash-based challenges.\n"
   ]
  },
  {
   "cell_type": "markdown",
   "metadata": {},
   "source": [
    "[Back to Top](#table-of-contents)\n",
    "\n",
    "---"
   ]
  },
  {
   "cell_type": "markdown",
   "metadata": {},
   "source": [
    "# **Task 7: Turing Machines**\n",
    "This task implements a simulated Turing Machine that adds `1` to a binary number encoded on its tape. Think of it like a crab that walks along the tape. The crab starts at the **left-most non-blank symbol** and treats the **right-most symbol as the least significant bit**, following the standard binary addition rules.\n",
    "\n",
    "## Tape Behavior\n",
    "\n",
    "- The tape contains a binary string (e.g., `100111`).\n",
    "- The crab begins at the leftmost digit and moves right until it encounters a blank (`_`), which marks the end of the number.\n",
    "- It then moves left to begin the addition process.\n",
    "\n",
    "## Addition Logic\n",
    "\n",
    "- Starting from the least significant bit (rightmost digit):\n",
    "  - If the bit is `0`, it is changed to `1`, and the crab halts.\n",
    "  - If the bit is `1`, it is changed to `0`, and the crab continues left (carrying the 1).\n",
    "  - If the crab moves past the first digit (into a blank), it writes a `1` to account for the carry.\n",
    "\n",
    "This logic simulates the process of adding one to a binary number, including proper handling of carries through multiple digits."
   ]
  },
  {
   "cell_type": "code",
   "execution_count": 91,
   "metadata": {},
   "outputs": [
    {
     "name": "stdout",
     "output_type": "stream",
     "text": [
      "Input Tape:   0101010\n",
      "Output Tape:  0101011\n"
     ]
    }
   ],
   "source": [
    "def crab_add_one(tape_string):\n",
    "    # Add a blank at the front and end of the tape\n",
    "    tape = ['_'] + list(tape_string) + ['_']\n",
    "    crab_position = 1  # Start at the left-most non-blank symbol\n",
    "    crab_mood = 'going_to_end'\n",
    "\n",
    "    while True:\n",
    "        if crab_mood == 'going_to_end':\n",
    "            if tape[crab_position] in ['0', '1']:\n",
    "                crab_position += 1\n",
    "            else:\n",
    "                crab_position -= 1\n",
    "                crab_mood = 'adding'\n",
    "\n",
    "        elif crab_mood == 'adding':\n",
    "            if tape[crab_position] == '0':\n",
    "                tape[crab_position] = '1'\n",
    "                break\n",
    "            elif tape[crab_position] == '1':\n",
    "                tape[crab_position] = '0'\n",
    "                crab_position -= 1\n",
    "            elif tape[crab_position] == '_':\n",
    "                tape[crab_position] = '1'\n",
    "                break\n",
    "\n",
    "    # Join the tape back into a string and strip leading blanks\n",
    "    return ''.join(tape).strip('_')\n",
    "\n",
    "\n",
    "# Test example\n",
    "input_tape = \"0101010\"\n",
    "output_tape = crab_add_one(input_tape)\n",
    "\n",
    "print(\"Input Tape:  \", input_tape)\n",
    "print(\"Output Tape: \", output_tape)\n",
    "# Expected output: 0101011 "
   ]
  },
  {
   "cell_type": "markdown",
   "metadata": {},
   "source": [
    "## Testing the Turing Machine\n",
    "\n",
    "To validate the implementation of the Turing Machine that adds 1 to a binary number, a series of test cases were created. These test a range of conditions including basic addition, full carry-over, edge cases, and empty input."
   ]
  },
  {
   "cell_type": "code",
   "execution_count": 92,
   "metadata": {},
   "outputs": [
    {
     "name": "stdout",
     "output_type": "stream",
     "text": [
      ":D PASS: Input '0' → Output '1'\n",
      ":D PASS: Input '1' → Output '10'\n",
      ":D PASS: Input '10' → Output '11'\n",
      ":D PASS: Input '11' → Output '100'\n",
      ":D PASS: Input '100111' → Output '101000'\n",
      ":D PASS: Input '1111' → Output '10000'\n",
      ":D PASS: Input '101010' → Output '101011'\n",
      ":D PASS: Input '000000' → Output '000001'\n",
      ":D PASS: Input '' → Output '1'\n",
      ":D PASS: Input '11111111111111111111111111111111' → Output '100000000000000000000000000000000'\n",
      "\n",
      "All tests passed.\n"
     ]
    }
   ],
   "source": [
    "def test_crab_add_one():\n",
    "    test_cases = [\n",
    "        # Format: (input, expected_output)\n",
    "        (\"0\", \"1\"),\n",
    "        (\"1\", \"10\"),\n",
    "        (\"10\", \"11\"),\n",
    "        (\"11\", \"100\"),\n",
    "        (\"100111\", \"101000\"),\n",
    "        (\"1111\", \"10000\"),\n",
    "        (\"101010\", \"101011\"),\n",
    "        (\"000000\", \"000001\"),\n",
    "        (\"\", \"1\"),  # Edge case: empty input\n",
    "        (\"1\" * 32, \"1\" + \"0\" * 32),  # Large input with full carry\n",
    "    ]\n",
    "    \n",
    "    passed = True\n",
    "    for binary_in, expected in test_cases:\n",
    "        result = crab_add_one(binary_in)\n",
    "        if result != expected:\n",
    "            print(f\">:( FAIL: Input '{binary_in}' → Expected '{expected}', Got '{result}'\")\n",
    "            passed = False\n",
    "        else:\n",
    "            print(f\":D PASS: Input '{binary_in}' → Output '{result}'\")\n",
    "\n",
    "    if passed:\n",
    "        print(\"\\nAll tests passed.\")\n",
    "    else:\n",
    "        print(\"\\nSome tests failed.\")\n",
    "\n",
    "# Run the test function\n",
    "test_crab_add_one()"
   ]
  },
  {
   "cell_type": "markdown",
   "metadata": {},
   "source": [
    "\n",
    "\n",
    "### Test Case Explanations\n",
    "\n",
    "| **Input**      | **Expected Output** | **Explanation**                                                                 |\n",
    "|----------------|---------------------|----------------------------------------------------------------------------------|\n",
    "| `0`            | `1`                 | Adding 1 to 0 results in 1.                                                    |\n",
    "| `1`            | `10`                | Adding 1 to binary 1 produces 10.                                              |\n",
    "| `10`           | `11`                | Binary 2 + 1 = 3 → `10` → `11`.                                                |\n",
    "| `11`           | `100`               | Full carry: 1 + 1 = 0 (carry 1), next 1 + 1 = 0 (carry 1), then prepend 1.     |\n",
    "| `100111`       | `101000`            | Given in the task — binary 39 + 1 = 40.                                        |\n",
    "| `1111`         | `10000`             | Full 1s require carry through all digits → prepend a 1.                        |\n",
    "| `101010`       | `101011`            | Only the last bit flips from 0 → 1.                                            |\n",
    "| `000000`       | `000001`            | Only the last bit flips, no carry needed.                                      |\n",
    "| *(empty)* `\"\"` | `1`                 | Edge case: treat as 0, result should be 1.                                     |\n",
    "| `111...1` (32) | `1` + 32 zeros      | Verifies proper carry logic through long input — `2³² - 1 + 1 = 2³²`.         |\n",
    "\n",
    "These tests confirm that the Turing Machine logic handles:\n",
    "- Normal addition without carry\n",
    "- Multiple carries through 1s\n",
    "- Full-width overflow and growth\n",
    "- Leading/trailing zeros\n",
    "- Empty tape edge case"
   ]
  },
  {
   "cell_type": "markdown",
   "metadata": {},
   "source": [
    "[Back to Top](#table-of-contents)\n",
    "\n",
    "---"
   ]
  },
  {
   "cell_type": "markdown",
   "metadata": {},
   "source": [
    "# **Task 8: Computational Complexity**\n",
    "This task investigates the computational complexity of **bubble sort** by measuring how many **comparisons** it makes when sorting every possible permutation of a five-element list:  "
   ]
  },
  {
   "cell_type": "markdown",
   "metadata": {},
   "source": [
    "## Method\n",
    "\n",
    "- A `bubble_sort_with_comparisons()` function was written to sort a list while counting how many comparisons it performs.\n",
    "- All permutations (120 total) of the list `[1, 2, 3, 4, 5]` were generated using `itertools.permutations()` (from the standard library).\n",
    "- Each permutation was sorted, and the number of comparisons was recorded."
   ]
  },
  {
   "cell_type": "code",
   "execution_count": 93,
   "metadata": {},
   "outputs": [],
   "source": [
    "from itertools import permutations\n",
    "\n",
    "def bubble_sort_with_comparisons(arr):\n",
    "    arr = list(arr)\n",
    "    n = len(arr)\n",
    "    comparisons = 0\n",
    "\n",
    "    for i in range(n):\n",
    "        swapped = False  # Track if any swaps occur in this pass\n",
    "        for j in range(n - 1 - i):\n",
    "            comparisons += 1\n",
    "            if arr[j] > arr[j + 1]:\n",
    "                arr[j], arr[j + 1] = arr[j + 1], arr[j]\n",
    "                swapped = True\n",
    "        if not swapped:\n",
    "            break  # Exit early if the list is already sorted\n",
    "\n",
    "    return comparisons\n"
   ]
  },
  {
   "cell_type": "markdown",
   "metadata": {},
   "source": [
    "## Observations\n",
    "\n",
    "Bubble sort's time complexity in terms of comparisons is always:\n",
    "\n",
    "- **Worst Case:**  \n",
    "  - When the list is in reverse order (`[5, 4, 3, 2, 1]`).\n",
    "  - Comparisons: `10 + 9 + 8 + 7 + 6 = 40`.\n",
    "- **Best Case:**  \n",
    "  - When the list is already sorted (`[1, 2, 3, 4, 5]`).\n",
    "  - Still performs all comparisons: 40 in this version (no early-exit optimization).\n",
    "\n",
    "> (*) This implementation uses the standard bubble sort optimization of skipping sorted tail elements (`n - 1 - i`), **and** it includes an early-exit check to detect when the list is already sorted.\n",
    "\n",
    "> In the best case (fully sorted input), the function performs only `n - 1 = 4` comparisons (i.e., one full pass) and exits early.\n",
    "\n",
    "> In the worst case (fully reversed), it performs the full `10 + 9 + 8 + 7 + 6 = 40` comparisons."
   ]
  },
  {
   "cell_type": "code",
   "execution_count": 94,
   "metadata": {},
   "outputs": [
    {
     "name": "stdout",
     "output_type": "stream",
     "text": [
      "Permutation  Comparisons | | Permutation  Comparisons | | Permutation  Comparisons | | Permutation  Comparisons | | Permutation  Comparisons\n",
      "------------------------ | | ------------------------ | | ------------------------ | | ------------------------ | | ------------------------\n",
      "12345                 4 | | 21345                 7 | | 31245                 7 | | 41235                 7 | | 51234                 7\n",
      "12354                 7 | | 21354                 7 | | 31254                 7 | | 41253                 9 | | 51243                 9\n",
      "12435                 7 | | 21435                 7 | | 31425                 9 | | 41325                 9 | | 51324                 9\n",
      "12453                 9 | | 21453                 9 | | 31452                10 | | 41352                10 | | 51342                10\n",
      "12534                 7 | | 21534                 7 | | 31524                 9 | | 41523                 9 | | 51423                 9\n",
      "12543                 9 | | 21543                 9 | | 31542                10 | | 41532                10 | | 51432                10\n",
      "13245                 7 | | 23145                 9 | | 32145                 9 | | 42135                 9 | | 52134                 9\n",
      "13254                 7 | | 23154                 9 | | 32154                 9 | | 42153                 9 | | 52143                 9\n",
      "13425                 9 | | 23415                10 | | 32415                10 | | 42315                10 | | 52314                10\n",
      "13452                10 | | 23451                10 | | 32451                10 | | 42351                10 | | 52341                10\n",
      "13524                 9 | | 23514                10 | | 32514                10 | | 42513                10 | | 52413                10\n",
      "13542                10 | | 23541                10 | | 32541                10 | | 42531                10 | | 52431                10\n",
      "14235                 7 | | 24135                 9 | | 34125                 9 | | 43125                 9 | | 53124                 9\n",
      "14253                 9 | | 24153                 9 | | 34152                10 | | 43152                10 | | 53142                10\n",
      "14325                 9 | | 24315                10 | | 34215                10 | | 43215                10 | | 53214                10\n",
      "14352                10 | | 24351                10 | | 34251                10 | | 43251                10 | | 53241                10\n",
      "14523                 9 | | 24513                10 | | 34512                10 | | 43512                10 | | 53412                10\n",
      "14532                10 | | 24531                10 | | 34521                10 | | 43521                10 | | 53421                10\n",
      "15234                 7 | | 25134                 9 | | 35124                 9 | | 45123                 9 | | 54123                 9\n",
      "15243                 9 | | 25143                 9 | | 35142                10 | | 45132                10 | | 54132                10\n",
      "15324                 9 | | 25314                10 | | 35214                10 | | 45213                10 | | 54213                10\n",
      "15342                10 | | 25341                10 | | 35241                10 | | 45231                10 | | 54231                10\n",
      "15423                 9 | | 25413                10 | | 35412                10 | | 45312                10 | | 54312                10\n",
      "15432                10 | | 25431                10 | | 35421                10 | | 45321                10 | | 54321                10\n"
     ]
    }
   ],
   "source": [
    "# Generate results\n",
    "results = []\n",
    "for p in permutations([1, 2, 3, 4, 5]):\n",
    "    perm = ''.join(map(str, p))\n",
    "    comps = bubble_sort_with_comparisons(p)\n",
    "    results.append((perm, comps))\n",
    "\n",
    "# Adjustable column count\n",
    "columns = 5  # ← change this to 2, 3, 4, etc.\n",
    "\n",
    "# Prepare column chunks\n",
    "rows_per_column = (len(results) + columns - 1) // columns  # ceiling division\n",
    "columns_data = [results[i * rows_per_column:(i + 1) * rows_per_column] for i in range(columns)]\n",
    "\n",
    "# Normalize column lengths\n",
    "max_len = max(len(col) for col in columns_data)\n",
    "for col in columns_data:\n",
    "    while len(col) < max_len:\n",
    "        col.append((\"\", \"\"))  # Empty row\n",
    "\n",
    "# Print headers\n",
    "header = ' | | '.join(\"Permutation  Comparisons\" for _ in range(columns))\n",
    "separator = ' | | '.join(\"-\" * 24 for _ in range(columns))\n",
    "print(header)\n",
    "print(separator)\n",
    "\n",
    "# Print aligned rows\n",
    "for row_idx in range(max_len):\n",
    "    row_cells = []\n",
    "    for col in columns_data:\n",
    "        perm, comps = col[row_idx]\n",
    "        if perm:\n",
    "            row_cells.append(f\"{perm:<12} {comps:>10}\")\n",
    "        else:\n",
    "            row_cells.append(\" \" * 24)\n",
    "    print(' | | '.join(row_cells))"
   ]
  },
  {
   "cell_type": "markdown",
   "metadata": {},
   "source": [
    "## Complexity Summary\n",
    "\n",
    "The implementation of bubble sort includes two key optimizations:\n",
    "\n",
    "1. **Inner loop reduction**: Skips comparisons over the already sorted tail (`range(n - 1 - i)`).\n",
    "2. **Early exit**: Detects if a full pass completes without any swaps and exits early.\n",
    "\n",
    "This results in improved performance, particularly for already sorted or nearly sorted inputs.\n",
    "\n",
    "### Observed Behavior (n = 5):\n",
    "\n",
    "| **Case Type**        | **Example Permutation** | **Comparisons** |\n",
    "|----------------------|--------------------------|------------------|\n",
    "| **Best Case**        | `12345`                  | 4                |\n",
    "| **Common Case**      | (many permutations)      | 7–9              |\n",
    "| **Worst Case**       | `54321`                  | 10               |\n",
    "\n",
    "- The **best case** only requires 4 comparisons (a single pass).\n",
    "- The **worst case** uses 10 comparisons — still far below the 40 comparisons a naive implementation would perform (i.e., `10 + 9 + 8 + 7 + 6 = 40`).\n",
    "- Most permutations fall between 7–9 comparisons, showing how input order significantly impacts runtime.\n",
    "\n",
    "This reflects **quadratic worst-case complexity** (O(n²)) but **linear best-case behavior** (O(n)) when the input is already sorted."
   ]
  },
  {
   "cell_type": "markdown",
   "metadata": {},
   "source": [
    "[Back to Top](#table-of-contents)\n",
    "\n",
    "---"
   ]
  },
  {
   "cell_type": "markdown",
   "metadata": {},
   "source": [
    "## **Conclusion**\n",
    "..."
   ]
  },
  {
   "cell_type": "markdown",
   "metadata": {},
   "source": [
    "[Back to Top](#table-of-contents)\n",
    "\n",
    "---"
   ]
  }
 ],
 "metadata": {
  "kernelspec": {
   "display_name": "Python 3",
   "language": "python",
   "name": "python3"
  },
  "language_info": {
   "codemirror_mode": {
    "name": "ipython",
    "version": 3
   },
   "file_extension": ".py",
   "mimetype": "text/x-python",
   "name": "python",
   "nbconvert_exporter": "python",
   "pygments_lexer": "ipython3",
   "version": "3.12.1"
  }
 },
 "nbformat": 4,
 "nbformat_minor": 2
}
